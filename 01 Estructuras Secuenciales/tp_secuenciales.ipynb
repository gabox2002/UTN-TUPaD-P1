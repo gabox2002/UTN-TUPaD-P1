{
 "cells": [
  {
   "cell_type": "markdown",
   "metadata": {},
   "source": [
    "<h4>\n",
    "<font color=\"#0000FF\">\n",
    "Gabriel Quispe\n",
    "</font>\n",
    "</h4>\n",
    "\n",
    "<h3>\n",
    "<b>Trabajo práctico 1: Estructuras Secuenciales</b>\n",
    "</h3>\n",
    "\n"
   ]
  },
  {
   "cell_type": "markdown",
   "metadata": {},
   "source": [
    "#### **Ejercicio 1**\n",
    "\n",
    "Crear un programa que imprima por pantalla el mensaje: “Hola Mundo!”.\n"
   ]
  },
  {
   "cell_type": "code",
   "execution_count": null,
   "metadata": {},
   "outputs": [
    {
     "name": "stdout",
     "output_type": "stream",
     "text": [
      "Hola mundo!\n"
     ]
    }
   ],
   "source": [
    "print (\"Hola mundo!\")"
   ]
  },
  {
   "cell_type": "markdown",
   "metadata": {},
   "source": [
    "#### **Ejercicio 2**\n",
    "\n",
    "Crear un programa que pida al usuario su nombre e imprima por pantalla un saludo usando el nombre ingresado. Por ejemplo: si el usuario ingresa “Marcos”, el programa debe imprimir por pantalla “Hola Marcos!”. Consejo: esto será más sencillo si utilizas print(f…) para realizar la impresión por pantalla."
   ]
  },
  {
   "cell_type": "code",
   "execution_count": 1,
   "metadata": {},
   "outputs": [
    {
     "name": "stdout",
     "output_type": "stream",
     "text": [
      "Hola julian!\n"
     ]
    }
   ],
   "source": [
    "nombre = input(\"Por favor, ingresa tu nombre: \")\n",
    "\n",
    "print(f\"Hola {nombre}!\")"
   ]
  },
  {
   "cell_type": "markdown",
   "metadata": {},
   "source": [
    "#### **Ejercicio 3**\n",
    "Crear un programa que pida al usuario su nombre, apellido, edad y lugar de residencia e imprima por pantalla una oración con los datos ingresados. Por ejemplo: si el usuario ingresa “Marcos”, “Pérez”, “30” y “Argentina”, el programa debe imprimir “Soy Marcos Pérez, tengo 30 años y vivo en Argentina”. Consejo: esto será más sencillo si utilizas print(f…) para realizar la impresión por pantalla."
   ]
  },
  {
   "cell_type": "code",
   "execution_count": 4,
   "metadata": {},
   "outputs": [
    {
     "name": "stdout",
     "output_type": "stream",
     "text": [
      "Soy Gabo Quispe, tengo 38 años y vivo en Argentina.\n"
     ]
    }
   ],
   "source": [
    "nombre = input(\"Ingresa tu nombre: \")\n",
    "apellido = input(\"Ingresa tu apellido: \")\n",
    "edad = int(input(\"Ingresa tu edad: \"))\n",
    "residencia = input(\"Ingresa tu país de residencia: \")\n",
    "\n",
    "print(f\"Soy {nombre} {apellido}, tengo {edad} años y vivo en {residencia}.\")\n"
   ]
  },
  {
   "cell_type": "markdown",
   "metadata": {},
   "source": [
    "#### **Ejercicio 4**\n",
    "Crear un programa que pida al usuario el radio de un círculo e imprima por pantalla su área y su perímetro."
   ]
  },
  {
   "cell_type": "code",
   "execution_count": 1,
   "metadata": {},
   "outputs": [
    {
     "name": "stdout",
     "output_type": "stream",
     "text": [
      "El área del círculo es: 452.39\n",
      "El perímetro del círculo es: 75.40\n"
     ]
    }
   ],
   "source": [
    "\n",
    "pi = 3.14159\n",
    "radio = float(input(\"Introduce el radio del círculo: \"))\n",
    "\n",
    "area = pi * radio ** 2\n",
    "perimetro = 2 * pi * radio\n",
    "\n",
    "print(f\"El área del círculo es: {area:.2f}\")\n",
    "print(f\"El perímetro del círculo es: {perimetro:.2f}\")"
   ]
  },
  {
   "cell_type": "markdown",
   "metadata": {},
   "source": [
    "#### **Ejercicio 5**\n",
    "Crear un programa que pida al usuario una cantidad de segundos e imprima por pantalla a cuántas horas equivale."
   ]
  },
  {
   "cell_type": "code",
   "execution_count": 2,
   "metadata": {},
   "outputs": [
    {
     "name": "stdout",
     "output_type": "stream",
     "text": [
      "7200 segundos equivalen a 2.00 horas.\n"
     ]
    }
   ],
   "source": [
    "segundos = int(input(\"Ingrese la cantidad de segundos: \"))\n",
    "\n",
    "horas = segundos / 3600  # 1 hora = 3600 segundos\n",
    "\n",
    "print(f\"{segundos} segundos equivalen a {horas:.2f} horas.\")"
   ]
  },
  {
   "cell_type": "markdown",
   "metadata": {},
   "source": [
    "#### **Ejercicio 6**\n",
    " Crear un programa que pida al usuario un número e imprima por pantalla la tabla de multiplicar de dicho número."
   ]
  },
  {
   "cell_type": "code",
   "execution_count": 3,
   "metadata": {},
   "outputs": [
    {
     "name": "stdout",
     "output_type": "stream",
     "text": [
      "Tabla de multiplicar del 2:\n",
      "2 x 1 = 2\n",
      "2 x 2 = 4\n",
      "2 x 3 = 6\n",
      "2 x 4 = 8\n",
      "2 x 5 = 10\n",
      "2 x 6 = 12\n",
      "2 x 7 = 14\n",
      "2 x 8 = 16\n",
      "2 x 9 = 18\n",
      "2 x 10 = 20\n"
     ]
    }
   ],
   "source": [
    "numero = int(input(\"Introduce un número para ver su tabla de multiplicar: \"))\n",
    "\n",
    "print(f\"Tabla de multiplicar del {numero}:\")\n",
    "print(f\"{numero} x 1 = {numero * 1}\")\n",
    "print(f\"{numero} x 2 = {numero * 2}\")\n",
    "print(f\"{numero} x 3 = {numero * 3}\")\n",
    "print(f\"{numero} x 4 = {numero * 4}\")\n",
    "print(f\"{numero} x 5 = {numero * 5}\")\n",
    "print(f\"{numero} x 6 = {numero * 6}\")\n",
    "print(f\"{numero} x 7 = {numero * 7}\")\n",
    "print(f\"{numero} x 8 = {numero * 8}\")\n",
    "print(f\"{numero} x 9 = {numero * 9}\")\n",
    "print(f\"{numero} x 10 = {numero * 10}\")"
   ]
  },
  {
   "cell_type": "markdown",
   "metadata": {},
   "source": [
    "#### **Ejercicio 7**\n",
    "Crear un programa que pida al usuario dos números enteros distintos del 0 y muestre por pantalla el resultado de sumarlos, dividirlos, multiplicarlos y restarlos."
   ]
  },
  {
   "cell_type": "code",
   "execution_count": 3,
   "metadata": {},
   "outputs": [
    {
     "name": "stdout",
     "output_type": "stream",
     "text": [
      "Los resultado de las operaciones con los números 2 y 2:\n",
      "La suma es: 4\n",
      "La resta es: 0\n",
      "La multiplicación es: 4\n",
      "La división es: 1.0\n"
     ]
    }
   ],
   "source": [
    "numero1 = int(input(\"Introduce el primer número: \"))\n",
    "numero2 = int(input(\"Introduce el segundo número: \"))\n",
    "\n",
    "if numero1 != 0 and numero2 != 0:\n",
    "    suma = numero1 + numero2\n",
    "    resta = numero1 - numero2\n",
    "    multiplicacion = numero1 * numero2\n",
    "    division = numero1 / numero2\n",
    "\n",
    "    print(f\"Los resultado de las operaciones con los números {numero1} y {numero2}:\")\n",
    "    print(f\"La suma es: {suma}\")\n",
    "    print(f\"La resta es: {resta}\")\n",
    "    print(f\"La multiplicación es: {multiplicacion}\")\n",
    "    print(f\"La división es: {division}\")\n",
    "else:\n",
    "    print(\"Ambos números deben ser distintos de 0\")"
   ]
  },
  {
   "cell_type": "markdown",
   "metadata": {},
   "source": [
    "#### **Ejercicio 8**\n",
    "Crear un programa que pida al usuario su altura y su peso e imprima por pantalla su índice de masa corporal. Tener en cuenta que el índice de masa corporal se calcula del siguiente modo: \n",
    "\n",
    "\n",
    "![image.png](data:image/png;base64,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)\n"
   ]
  },
  {
   "cell_type": "code",
   "execution_count": 4,
   "metadata": {},
   "outputs": [
    {
     "name": "stdout",
     "output_type": "stream",
     "text": [
      "Tu índice de masa corporal (IMC) es: 24.22\n"
     ]
    }
   ],
   "source": [
    "peso = float(input(\"Introduce tu peso en kilos: \"))\n",
    "altura = float(input(\"Introduce tu altura en metros: \"))\n",
    "\n",
    "imc = peso / (altura ** 2)\n",
    "\n",
    "print(f\"Tu índice de masa corporal (IMC) es: {imc:.2f}\")"
   ]
  },
  {
   "cell_type": "markdown",
   "metadata": {},
   "source": [
    "#### **Ejercicio 9**\n",
    "\n",
    "Crear un programa que pida al usuario una temperatura en grados Celsius e imprima por pantalla su equivalente en grados Fahrenheit. Tener en cuenta la siguiente equivalencia:\n",
    "\n",
    "![image.png](data:image/png;base64,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)"
   ]
  },
  {
   "cell_type": "code",
   "execution_count": 1,
   "metadata": {},
   "outputs": [
    {
     "name": "stdout",
     "output_type": "stream",
     "text": [
      "La temperatura en grados Fahrenheit es: 64.40°F\n"
     ]
    }
   ],
   "source": [
    "\n",
    "temp_celsius = float(input(\"Introduce la temperatura en grados Celsius: \"))\n",
    "\n",
    "temp_fahrenheit = (9/5) * temp_celsius + 32\n",
    "\n",
    "print(f\"La temperatura en grados Fahrenheit es: {temp_fahrenheit:.2f}°F\")\n"
   ]
  },
  {
   "cell_type": "markdown",
   "metadata": {},
   "source": [
    "#### **Ejercicio 10**\n",
    "\n",
    "Crear un programa que pida al usuario  3 números e imprima por pantalla el promedio de dichos números."
   ]
  },
  {
   "cell_type": "code",
   "execution_count": 5,
   "metadata": {},
   "outputs": [
    {
     "name": "stdout",
     "output_type": "stream",
     "text": [
      "El promedio de los tres números es: 3.00\n"
     ]
    }
   ],
   "source": [
    "numero1 = float(input(\"Introduce el primer número: \"))\n",
    "numero2 = float(input(\"Introduce el segundo número: \"))\n",
    "numero3 = float(input(\"Introduce el tercer número: \"))\n",
    "\n",
    "promedio = (numero1 + numero2 + numero3) / 3\n",
    "\n",
    "print(f\"El promedio de los tres números es: {promedio:.2f}\")"
   ]
  }
 ],
 "metadata": {
  "kernelspec": {
   "display_name": "Python 3",
   "language": "python",
   "name": "python3"
  },
  "language_info": {
   "codemirror_mode": {
    "name": "ipython",
    "version": 3
   },
   "file_extension": ".py",
   "mimetype": "text/x-python",
   "name": "python",
   "nbconvert_exporter": "python",
   "pygments_lexer": "ipython3",
   "version": "3.13.2"
  }
 },
 "nbformat": 4,
 "nbformat_minor": 2
}
