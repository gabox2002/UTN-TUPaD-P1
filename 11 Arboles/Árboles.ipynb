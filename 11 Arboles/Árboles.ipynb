{
  "nbformat": 4,
  "nbformat_minor": 0,
  "metadata": {
    "colab": {
      "provenance": []
    },
    "kernelspec": {
      "name": "python3",
      "display_name": "Python 3"
    },
    "language_info": {
      "name": "python"
    }
  },
  "cells": [
    {
      "cell_type": "markdown",
      "source": [
        "# **ÁRBOLES**"
      ],
      "metadata": {
        "id": "Xg5fXB_4pLUF"
      }
    },
    {
      "cell_type": "markdown",
      "source": [
        "***\n",
        "### **REPRESENTACIÓN DE ÁRBOLES**\n",
        "***\n",
        "\n",
        "Para representar un árbol en Python podemos utilizar objetos. Cada nodo del árbol puede ser representado como un objeto cuyos atributos son el valor del nodo y un diccionario que contenga sus nodos hijos. Las keys del diccionario serán los valores de los nodos y los values serán la direcciones de memoria donde se encuentra el nodo que corresponde a la key."
      ],
      "metadata": {
        "id": "feBUz6DspmsJ"
      }
    },
    {
      "cell_type": "code",
      "execution_count": null,
      "metadata": {
        "id": "k9af3JolEvUZ"
      },
      "outputs": [],
      "source": [
        "# Creamos la clase Nodo con dos atributos (valor e hijos) y un método (agregar_hijo).\n",
        "class Nodo:\n",
        "    def __init__(self, valor):\n",
        "        self.valor = valor\n",
        "        self.hijos = {}\n",
        "\n",
        "    def agregar_hijo(self, nodo):\n",
        "        self.hijos[nodo.valor] = nodo"
      ]
    },
    {
      "cell_type": "markdown",
      "source": [
        "Si deseamos crear el árbol de la siguiente imagen debemos crear un objeto a partir de la clase Nodo.\n",
        "![image.png](data:image/png;base64,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)"
      ],
      "metadata": {
        "id": "tPf-JRIOqMV3"
      }
    },
    {
      "cell_type": "code",
      "source": [
        "# Creamos 6 objetos, uno para cada nodo, a partir de la clase Nodo\n",
        "raiz = Nodo('A')\n",
        "nodo_b = Nodo('B')\n",
        "nodo_c = Nodo('C')\n",
        "nodo_d = Nodo('D')\n",
        "nodo_e = Nodo('E')\n",
        "nodo_f = Nodo('F')\n",
        "\n",
        "# Conectamos la raiz a sus dos hijos (B y C)\n",
        "raiz.agregar_hijo(nodo_b)\n",
        "raiz.agregar_hijo(nodo_c)\n",
        "\n",
        "# Conectamos el nodo B a sus dos hijos (D y E)\n",
        "nodo_b.agregar_hijo(nodo_d)\n",
        "nodo_b.agregar_hijo(nodo_e)\n",
        "\n",
        "# Conectamos el nodo C a su hijo (F)\n",
        "nodo_c.agregar_hijo(nodo_f)"
      ],
      "metadata": {
        "id": "Gdbqcf_Ar4sq"
      },
      "execution_count": null,
      "outputs": []
    },
    {
      "cell_type": "markdown",
      "source": [
        "Podemos verificar si los hijos se añadieron correctamente explorando el atributo hijos de cada objeto:"
      ],
      "metadata": {
        "id": "FtOG2ZZ7seME"
      }
    },
    {
      "cell_type": "code",
      "source": [
        "print(raiz.hijos)"
      ],
      "metadata": {
        "colab": {
          "base_uri": "https://localhost:8080/"
        },
        "id": "cAmK4vXasnXn",
        "outputId": "c9f395fa-ed00-4d70-d768-581095d3abd5"
      },
      "execution_count": null,
      "outputs": [
        {
          "output_type": "stream",
          "name": "stdout",
          "text": [
            "{'B': <__main__.Nodo object at 0x7da1c1875290>, 'C': <__main__.Nodo object at 0x7da1c1875510>}\n"
          ]
        }
      ]
    },
    {
      "cell_type": "code",
      "source": [
        "print(nodo_b.hijos)"
      ],
      "metadata": {
        "colab": {
          "base_uri": "https://localhost:8080/"
        },
        "id": "8JANtPfyuD6-",
        "outputId": "5c0015fe-951e-4a60-dc7b-6f49c62bd2c0"
      },
      "execution_count": null,
      "outputs": [
        {
          "output_type": "stream",
          "name": "stdout",
          "text": [
            "{'D': <__main__.Nodo object at 0x7da1c18755d0>, 'E': <__main__.Nodo object at 0x7da1c1875650>}\n"
          ]
        }
      ]
    },
    {
      "cell_type": "code",
      "source": [
        "print(nodo_c.hijos)"
      ],
      "metadata": {
        "colab": {
          "base_uri": "https://localhost:8080/"
        },
        "id": "72YyzYr_svZV",
        "outputId": "736885e3-fb0c-49e8-e47d-b3783ed249e6"
      },
      "execution_count": null,
      "outputs": [
        {
          "output_type": "stream",
          "name": "stdout",
          "text": [
            "{'F': <__main__.Nodo object at 0x7da1c18756d0>}\n"
          ]
        }
      ]
    },
    {
      "cell_type": "markdown",
      "source": [
        "Tal como vemos, al imprimir el atributo hijos de cada objeto obtenemos un diccionario con el valor y la dirección de memoria de los nodos hijos."
      ],
      "metadata": {
        "id": "lyQHHt3j_AO_"
      }
    },
    {
      "cell_type": "markdown",
      "source": [
        "***\n",
        "### **PROPIEDADES DE ÁRBOLES**\n",
        "***\n",
        "\n"
      ],
      "metadata": {
        "id": "ceJHlu9hvsqa"
      }
    },
    {
      "cell_type": "markdown",
      "source": [
        "#### **Longitud de camino**\n",
        "\n",
        "La longitud de un camino es el número de ramas o arcos que hay que transitar para llegar de un nodo a otro.\n",
        "\n",
        "Incluyamos el método `buscar_camino` en la clase Nodo. El mismo se encargará de encontrar el camino desde un nodo hasta otro, siempre que sea posible."
      ],
      "metadata": {
        "id": "aW6R5KGu_6nj"
      }
    },
    {
      "cell_type": "code",
      "source": [
        "# Recreamos la clase nodo, esta vez incluyendo el método buscar_camino\n",
        "class Nodo:\n",
        "    def __init__(self, valor):\n",
        "        self.valor = valor\n",
        "        self.hijos = {}\n",
        "\n",
        "    def agregar_hijo(self, nodo):\n",
        "        self.hijos[nodo.valor] = nodo\n",
        "\n",
        "\n",
        "    def buscar_camino(self, destino, camino=None):\n",
        "        # Inicializamos el camino solo una vez.\n",
        "        if camino is None:\n",
        "            camino = []\n",
        "\n",
        "        # Agregamos el nodo actual al camino\n",
        "        camino.append(self.valor)\n",
        "\n",
        "        # Si el nodo actual es el mismo que el nodo destino, retornamos el camino\n",
        "        if self.valor == destino:\n",
        "            return camino\n",
        "\n",
        "        # Recorrermos los hijos\n",
        "        for hijo in self.hijos.values():\n",
        "            # Buscamos de manera recursiva en cada hijo, pasando el camino como\n",
        "            # una copia para no modificar la lista original\n",
        "            camino_encontrado = hijo.buscar_camino(destino, camino[:])\n",
        "            # Si encontramos el camino, lo retornamos\n",
        "            if camino_encontrado:\n",
        "                return camino_encontrado\n",
        "\n",
        "        # Si no encontramos el destino, retornamos None\n",
        "        return None"
      ],
      "metadata": {
        "id": "g39ZbVMQAP49"
      },
      "execution_count": null,
      "outputs": []
    },
    {
      "cell_type": "markdown",
      "source": [
        "Una vez recreada la clase, esta vez incluyendo el método `buscar_camino`, podemos volver a crear el árbol."
      ],
      "metadata": {
        "id": "tpRQgg1NDtB1"
      }
    },
    {
      "cell_type": "code",
      "source": [
        "# Creamos el mismo árbol que antes, pero usando la nueva clase Nodo\n",
        "raiz = Nodo('A')\n",
        "nodo_b = Nodo('B')\n",
        "nodo_c = Nodo('C')\n",
        "nodo_d = Nodo('D')\n",
        "nodo_e = Nodo('E')\n",
        "nodo_f = Nodo('F')\n",
        "\n",
        "raiz.agregar_hijo(nodo_b)\n",
        "raiz.agregar_hijo(nodo_c)\n",
        "nodo_b.agregar_hijo(nodo_d)\n",
        "nodo_b.agregar_hijo(nodo_e)\n",
        "nodo_c.agregar_hijo(nodo_f)"
      ],
      "metadata": {
        "id": "GKgHwFs6D4Lp"
      },
      "execution_count": null,
      "outputs": []
    },
    {
      "cell_type": "markdown",
      "source": [
        "Finalmente, implementamos el método `buscar_camino` para probar su funcionamiento."
      ],
      "metadata": {
        "id": "QsA2kZZ0D6mo"
      }
    },
    {
      "cell_type": "code",
      "source": [
        "# Buscamos el camino desde la raíz hasta el nodo D.\n",
        "camino = raiz.buscar_camino('C')\n",
        "\n",
        "print(camino)"
      ],
      "metadata": {
        "colab": {
          "base_uri": "https://localhost:8080/"
        },
        "id": "4rcwGTqFEA-z",
        "outputId": "1b932506-ebea-4008-b894-2fb48fc102a7"
      },
      "execution_count": null,
      "outputs": [
        {
          "output_type": "stream",
          "name": "stdout",
          "text": [
            "['A', 'C']\n"
          ]
        }
      ]
    },
    {
      "cell_type": "code",
      "source": [
        "# Buscamos el camino desde el nodo F hasta la raíz.\n",
        "camino = nodo_f.buscar_camino('A')\n",
        "\n",
        "print(camino)"
      ],
      "metadata": {
        "colab": {
          "base_uri": "https://localhost:8080/"
        },
        "id": "rqLHv_xIEL1v",
        "outputId": "fb29642f-f2af-437c-9b80-ce28173aadc3"
      },
      "execution_count": null,
      "outputs": [
        {
          "output_type": "stream",
          "name": "stdout",
          "text": [
            "None\n"
          ]
        }
      ]
    },
    {
      "cell_type": "markdown",
      "source": [
        "#### **Grado del árbol**\n",
        "\n",
        "El grado de un nodo es el número de hijos que tiene dicho nodo. El grado de un árbol es el grado máximo de los nodos del árbol.\n",
        "\n",
        "Incluyamos el método `calcular_grado_arbol` en la clase Nodo. El mismo se encargará de encontrar el grado del árbol construido. Para poder construirlo, necesitaremos previamente crear el método `calcular_grado_nodo` que se encargue de calcular el grado de cada nodo."
      ],
      "metadata": {
        "id": "GpR5mVQGD31u"
      }
    },
    {
      "cell_type": "code",
      "source": [
        "# Recreamos la clase nodo, esta vez incluyendo el método calcular_grado_arbol\n",
        "\n",
        "class Nodo:\n",
        "    def __init__(self, valor):\n",
        "        self.valor = valor\n",
        "        self.hijos = {}\n",
        "\n",
        "    def agregar_hijo(self, nodo):\n",
        "        self.hijos[nodo.valor] = nodo\n",
        "\n",
        "    def calcular_grado_nodo(self):\n",
        "        # El grado del nodo es el número de hijos que tiene\n",
        "        grado_nodo = len(self.hijos)\n",
        "        return grado_nodo\n",
        "\n",
        "    def calcular_grado_arbol(self):\n",
        "        # El grado del árbol es el máximo grado entre todos los nodos\n",
        "        grado_maximo = self.calcular_grado_nodo()\n",
        "\n",
        "        # Revisamos recursivamente los grados de los hijos y nos quedamos con el máximo\n",
        "        for hijo in self.hijos.values():\n",
        "            grado_maximo = max(grado_maximo, hijo.calcular_grado_arbol())\n",
        "        return grado_maximo"
      ],
      "metadata": {
        "id": "xdGeQQlh_cad"
      },
      "execution_count": null,
      "outputs": []
    },
    {
      "cell_type": "markdown",
      "source": [
        "Una vez recreada la clase, esta vez incluyendo el método `calcular_grado_arbol`, podemos volver a crear el árbol."
      ],
      "metadata": {
        "id": "fc1j71bfEyfC"
      }
    },
    {
      "cell_type": "code",
      "source": [
        "# Creamos el mismo árbol que antes, pero usando la nueva clase Nodo\n",
        "raiz = Nodo('A')\n",
        "nodo_b = Nodo('B')\n",
        "nodo_c = Nodo('C')\n",
        "nodo_d = Nodo('D')\n",
        "nodo_e = Nodo('E')\n",
        "nodo_f = Nodo('F')\n",
        "\n",
        "raiz.agregar_hijo(nodo_b)\n",
        "raiz.agregar_hijo(nodo_c)\n",
        "nodo_b.agregar_hijo(nodo_d)\n",
        "nodo_b.agregar_hijo(nodo_e)\n",
        "nodo_c.agregar_hijo(nodo_f)"
      ],
      "metadata": {
        "id": "jDqM-w9XEyfD"
      },
      "execution_count": null,
      "outputs": []
    },
    {
      "cell_type": "markdown",
      "source": [
        "Finalmente, implementamos el método `calcular_grado_arbol` para probar su funcionamiento."
      ],
      "metadata": {
        "id": "lqgw30J_EyfD"
      }
    },
    {
      "cell_type": "code",
      "source": [
        "# Calculamos el grado del árbol\n",
        "grado = raiz.calcular_grado_arbol()\n",
        "\n",
        "print(f\"El grado del árbol es: {grado}\")"
      ],
      "metadata": {
        "colab": {
          "base_uri": "https://localhost:8080/"
        },
        "outputId": "78a4cf69-e639-4d90-ede2-794921351744",
        "id": "d3hJKSCAEyfE"
      },
      "execution_count": null,
      "outputs": [
        {
          "output_type": "stream",
          "name": "stdout",
          "text": [
            "El grado del árbol es: 2\n"
          ]
        }
      ]
    },
    {
      "cell_type": "markdown",
      "source": [
        "#### **Peso del árbol**\n",
        "\n",
        "El peso de un árbol es el número total de nodos que tiene el mismo.\n",
        "\n",
        "\n",
        "Incluyamos el método `calcular_peso_arbol` en la clase Nodo. El mismo se encargará de encontrar el peso del árbol construido."
      ],
      "metadata": {
        "id": "GU3LvSYqFu48"
      }
    },
    {
      "cell_type": "code",
      "source": [
        "# Recreamos la clase nodo, esta vez incluyendo el método calcular_grado_arbol\n",
        "\n",
        "class Nodo:\n",
        "    def __init__(self, valor):\n",
        "        self.valor = valor\n",
        "        self.hijos = {}\n",
        "\n",
        "    def agregar_hijo(self, nodo):\n",
        "        self.hijos[nodo.valor] = nodo\n",
        "\n",
        "    def calcular_peso_arbol(self):\n",
        "        # Comenzamos contando el nodo actual\n",
        "        cantidad = 1\n",
        "\n",
        "        # Recursivamente contamos los nodos de los hijos\n",
        "        for hijo in self.hijos.values():\n",
        "            cantidad += hijo.calcular_peso_arbol()\n",
        "\n",
        "        return cantidad"
      ],
      "metadata": {
        "id": "ERBOKa_8_w7m"
      },
      "execution_count": null,
      "outputs": []
    },
    {
      "cell_type": "markdown",
      "source": [
        "Una vez recreada la clase, esta vez incluyendo el método `calcular_peso_arbol`, podemos volver a crear el árbol."
      ],
      "metadata": {
        "id": "ZTHRUYhFGETH"
      }
    },
    {
      "cell_type": "code",
      "source": [
        "# Creamos el mismo árbol que antes, pero usando la nueva clase Nodo\n",
        "raiz = Nodo('A')\n",
        "nodo_b = Nodo('B')\n",
        "nodo_c = Nodo('C')\n",
        "nodo_d = Nodo('D')\n",
        "nodo_e = Nodo('E')\n",
        "nodo_f = Nodo('F')\n",
        "\n",
        "raiz.agregar_hijo(nodo_b)\n",
        "raiz.agregar_hijo(nodo_c)\n",
        "nodo_b.agregar_hijo(nodo_d)\n",
        "nodo_b.agregar_hijo(nodo_e)\n",
        "nodo_c.agregar_hijo(nodo_f)"
      ],
      "metadata": {
        "id": "p7_B-wnpGETI"
      },
      "execution_count": null,
      "outputs": []
    },
    {
      "cell_type": "markdown",
      "source": [
        "Finalmente, implementamos el método `calcular_peso_arbol` para probar su funcionamiento."
      ],
      "metadata": {
        "id": "qSBiCogCGETI"
      }
    },
    {
      "cell_type": "code",
      "source": [
        "# Calcular la cantidad de nodos en el árbol\n",
        "peso = raiz.calcular_peso_arbol()\n",
        "\n",
        "print(f\"El peso del árbol es igual a {peso}.\")"
      ],
      "metadata": {
        "colab": {
          "base_uri": "https://localhost:8080/"
        },
        "outputId": "8e808e2f-179b-457e-9b41-15d57205ce9b",
        "id": "rCaevGvBGETI"
      },
      "execution_count": null,
      "outputs": [
        {
          "output_type": "stream",
          "name": "stdout",
          "text": [
            "El peso del árbol es igual a 6.\n"
          ]
        }
      ]
    },
    {
      "cell_type": "markdown",
      "source": [
        "***\n",
        "### **ÁRBOLES DE BÚSQUEDA**\n",
        "***\n"
      ],
      "metadata": {
        "id": "5nfD6QRaDgH8"
      }
    },
    {
      "cell_type": "markdown",
      "source": [
        "#### **Construir el árbol**\n",
        "\n",
        "Crearemos primero una clase Nodo que tendrá 3 atributos: cuál es su valor, quién es su hijo izquierdo y quién es su hijo derecho. Luego crearemos la clase ArbolBusquedaBinario que contenga métodos para ir insertando los nodos.\n",
        "A diferencia de lo visto anteriormente en un árbol binario de búsqueda no podemos designar manualmente hijos a un nodo, sino que únicamente podemos declarar quiénes son los nodos que formarán parte del árbol y éstos se ordenarán de acuerdo a las dos reglas que definen un árbol binario de búsqueda:\n",
        "* Los valores de todos los nodos en su subárbol izquierdo son menores que el valor del nodo.\n",
        "* Los valores de todos los nodos en su subárbol derecho son mayores que el valor del nodo.\n",
        "\n",
        "La clase ArbolBusquedaBinario contará con el método `imprimir_arbol` para poder obtener una representación visual del árbol y el método `insertar` para poder insertar nodos y así ir construyendo el árbol."
      ],
      "metadata": {
        "id": "Kut9K6tsDjfI"
      }
    },
    {
      "cell_type": "code",
      "source": [
        "# Creamos la clase Nodo\n",
        "class Nodo:\n",
        "    def __init__(self, valor):\n",
        "        self.valor = valor\n",
        "        self.izquierda = None\n",
        "        self.derecha = None\n",
        "\n",
        "# Creamos la clase ArbolBusquedaBinario\n",
        "class ArbolBusquedaBinario:\n",
        "    def __init__(self):\n",
        "        self.raiz = None\n",
        "\n",
        "    def imprimir_arbol(self):\n",
        "        if self.raiz is None:\n",
        "            print(\"El árbol está vacío.\")\n",
        "        else:\n",
        "            self._imprimir_arbol(self.raiz, \"\", True)\n",
        "\n",
        "    def _imprimir_arbol(self, nodo, espacio, es_izquierda):\n",
        "        if nodo is None:\n",
        "            return\n",
        "        self._imprimir_arbol(nodo.derecha, espacio + \"   \", False)\n",
        "        print(espacio + (\"└── \" if es_izquierda else \"├── \") + str(nodo.valor))\n",
        "        self._imprimir_arbol(nodo.izquierda, espacio + \"   \", True)\n",
        "\n",
        "\n",
        "    def insertar(self, valor):\n",
        "        # Si la raiz está vacía, colocamos el valor proporcionado como raíz\n",
        "        if self.raiz is None:\n",
        "            self.raiz = Nodo(valor)\n",
        "        # En otro caso, llamamos al método _insertar para insertar el valor\n",
        "        # en la posición que corresponda\n",
        "        else:\n",
        "            self._insertar(self.raiz, valor)\n",
        "\n",
        "\n",
        "    def _insertar(self, nodo, valor):\n",
        "        # Si el valor ingresado es menor que el nodo ya presente en el árbol\n",
        "        if valor < nodo.valor:\n",
        "            # Si el nodo de la izquierda está vacío, colocamos el valor proporcionado en la izquierda\n",
        "            if nodo.izquierda is None:\n",
        "                nodo.izquierda = Nodo(valor)\n",
        "            # En otro caso, seguimos bajando recursivamente por el árbol hasta insertarlo como hijo\n",
        "            # izquierdo de algún nodo existente\n",
        "            else:\n",
        "                self._insertar(nodo.izquierda, valor)\n",
        "\n",
        "        # Si el valor ingresado es mayor que el nodo ya presente en el árbol\n",
        "        elif valor > nodo.valor:\n",
        "            # Si el nodo de la derecha está vacío, colocamos el valor proporcionado en la derecha\n",
        "            if nodo.derecha is None:\n",
        "                nodo.derecha = Nodo(valor)\n",
        "            # En otro caso, seguimos bajando recursivamente por el árbol hasta insertarlo como hijo\n",
        "            # derecho de algún nodo existente\n",
        "            else:\n",
        "                self._insertar(nodo.derecha, valor)"
      ],
      "metadata": {
        "id": "lLRwYKE9Dp3r"
      },
      "execution_count": null,
      "outputs": []
    },
    {
      "cell_type": "markdown",
      "source": [
        "Una vez creada la clase `ArbolBusquedaBinario` podemos instanciar un objeto de la misma e insertar tantos nodos como necesitemos. Los mismos se irán insertando respetando el orden de los árboles de búsqueda binarios."
      ],
      "metadata": {
        "id": "jn6cqKHNhgit"
      }
    },
    {
      "cell_type": "code",
      "source": [
        "arbol = ArbolBusquedaBinario()\n",
        "arbol.insertar(50)\n",
        "arbol.insertar(30)\n",
        "arbol.insertar(20)\n",
        "arbol.insertar(40)\n",
        "arbol.insertar(70)\n",
        "arbol.insertar(60)\n",
        "arbol.insertar(80)\n",
        "\n",
        "arbol.imprimir_arbol()"
      ],
      "metadata": {
        "colab": {
          "base_uri": "https://localhost:8080/"
        },
        "id": "rRCMfOTDgwWQ",
        "outputId": "cdd577a2-2749-40e8-bdcf-c0fbcf682a38"
      },
      "execution_count": null,
      "outputs": [
        {
          "output_type": "stream",
          "name": "stdout",
          "text": [
            "      ├── 80\n",
            "   ├── 70\n",
            "      └── 60\n",
            "└── 50\n",
            "      ├── 40\n",
            "   └── 30\n",
            "      └── 20\n"
          ]
        }
      ]
    }
  ]
}