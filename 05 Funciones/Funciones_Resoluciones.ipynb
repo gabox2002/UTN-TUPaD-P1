{
  "nbformat": 4,
  "nbformat_minor": 0,
  "metadata": {
    "colab": {
      "provenance": []
    },
    "kernelspec": {
      "name": "python3",
      "display_name": "Python 3"
    },
    "language_info": {
      "name": "python"
    }
  },
  "cells": [
    {
      "cell_type": "markdown",
      "source": [
        "# 🧠💡 Kata: Funciones\n"
      ],
      "metadata": {
        "id": "kata-header"
      }
    },
    {
      "cell_type": "markdown",
      "source": [
        "## 📚 Ejercicio 1: Tabla de Multiplicar\n",
        "\n",
        "Escribir una función llamada `tabla_multiplicar` que reciba un número entero positivo y devuelva una lista con su tabla de multiplicar del 1 al 10. Por ejemplo, para el número 3, la lista debe ser `[3, 6, 9, 12, 15, 18, 21, 24, 27, 30]`."
      ],
      "metadata": {
        "id": "kata-1-desc"
      }
    },
    {
      "cell_type": "code",
      "source": [
        "def tabla_multiplicar(n):\n",
        "    lista = []\n",
        "    for i in range(1, 11):\n",
        "        lista.append(n * i)\n",
        "    return lista\n",
        "\n",
        "print(\"Tabla de multiplicar del 3:\", tabla_multiplicar(3))"
      ],
      "metadata": {
        "id": "kata-1-code",
        "colab": {
          "base_uri": "https://localhost:8080/"
        },
        "outputId": "a1fd4741-2a9e-4ccc-b5b6-3d68d84902b2"
      },
      "execution_count": null,
      "outputs": [
        {
          "output_type": "stream",
          "name": "stdout",
          "text": [
            "Tabla de multiplicar del 3: [3, 6, 9, 12, 15, 18, 21, 24, 27, 30]\n"
          ]
        }
      ]
    },
    {
      "cell_type": "markdown",
      "source": [
        "## 📚 Ejercicio 2: Suma de Números Pares\n",
        "\n",
        "Desarrollar una función llamada `suma_pares` que reciba una lista de números enteros y devuelva la suma de todos los números pares en la lista. Usar la lista `[1, 2, 3, 4, 5, 6]` como ejemplo."
      ],
      "metadata": {
        "id": "kata-2-desc"
      }
    },
    {
      "cell_type": "code",
      "source": [
        "def suma_pares(numeros):\n",
        "    suma = 0\n",
        "    for num in numeros:\n",
        "        if num % 2 == 0:\n",
        "            suma += num\n",
        "    return suma\n",
        "\n",
        "print(\"Suma de los pares de [1, 2, 3, 4, 5, 6]:\", suma_pares([1, 2, 3, 4, 5, 6]))"
      ],
      "metadata": {
        "id": "kata-2-code"
      },
      "execution_count": null,
      "outputs": []
    },
    {
      "cell_type": "markdown",
      "source": [
        "## 📚 Ejercicio 3: Área y Perímetro de un Rectángulo\n",
        "\n",
        "Escribir una función llamada `rectangulo` que reciba la longitud y la anchura de un rectángulo y devuelva tanto su área como su perímetro. La función debe retornar ambos valores en una tupla."
      ],
      "metadata": {
        "id": "kata-3-desc"
      }
    },
    {
      "cell_type": "code",
      "source": [
        "def rectangulo(longitud, anchura):\n",
        "    area = longitud * anchura\n",
        "    perimetro = 2 * (longitud + anchura)\n",
        "    return area, perimetro\n",
        "\n",
        "area, perimetro = rectangulo(5, 3)\n",
        "print(\"Rectángulo (5, 3): Área =\", area, \", Perímetro =\", perimetro)"
      ],
      "metadata": {
        "id": "kata-3-code"
      },
      "execution_count": null,
      "outputs": []
    },
    {
      "cell_type": "markdown",
      "source": [
        "## 📚 Ejercicio 4: Conversión de Temperatura\n",
        "\n",
        "Desarrollar una función llamada `convertir_temperatura` que reciba una temperatura en grados Celsius y una unidad de destino (`\"F\"` para Fahrenheit o `\"K\"` para Kelvin), y devuelva la temperatura convertida a la unidad especificada.\n",
        "\n",
        "Las fórmulas son:\n",
        "- Celsius a Fahrenheit: `F = C * 9/5 + 32`\n",
        "- Celsius a Kelvin: `K = C + 273.15`"
      ],
      "metadata": {
        "id": "kata-4-desc"
      }
    },
    {
      "cell_type": "code",
      "source": [
        "def convertir_temperatura(celsius, unidad):\n",
        "    if unidad == \"F\":\n",
        "        return celsius * 9/5 + 32\n",
        "    elif unidad == \"K\":\n",
        "        return celsius + 273.15\n",
        "    else:\n",
        "        return \"Unidad incorrecta\"\n",
        "\n",
        "print(\"25°C a Fahrenheit:\", convertir_temperatura(25, \"F\"))\n",
        "print(\"25°C a Kelvin:\", convertir_temperatura(25, \"K\"))"
      ],
      "metadata": {
        "id": "kata-4-code"
      },
      "execution_count": null,
      "outputs": []
    },
    {
      "cell_type": "markdown",
      "source": [
        "## 📚 Ejercicio 5: Número Primo\n",
        "\n",
        "Crear una función llamada `es_primo` que reciba un número entero positivo y devuelva `True` si es primo y `False` en caso contrario. Un número primo es aquel que solo es divisible por 1 y por sí mismo."
      ],
      "metadata": {
        "id": "kata-5-desc"
      }
    },
    {
      "cell_type": "code",
      "source": [
        "def es_primo(num):\n",
        "    if num < 2:\n",
        "        return False\n",
        "    for i in range(2, num):\n",
        "        if num % i == 0:\n",
        "            return False\n",
        "    return True\n",
        "\n",
        "print(\"El 7 es primo?:\", es_primo(7))\n",
        "print(\"El 8 es primo?:\", es_primo(8))"
      ],
      "metadata": {
        "id": "kata-5-code"
      },
      "execution_count": null,
      "outputs": []
    },
    {
      "cell_type": "markdown",
      "source": [
        "## 📚 Ejercicio 6: Promedio de Calificaciones\n",
        "\n",
        "Crear una función llamada `promedio_calificaciones` que reciba una lista de calificaciones (números flotantes entre 0 y 10) y devuelva el promedio. Si la lista está vacía, debe devolver 0. Usar como ejemplo la lista `[8.5, 9.0, 7.5, 8.0]`."
      ],
      "metadata": {
        "id": "kata-6-desc"
      }
    },
    {
      "cell_type": "code",
      "source": [
        "def promedio_calificaciones(calificaciones):\n",
        "    total = 0\n",
        "    for calif in calificaciones:\n",
        "        total += calif\n",
        "    return total / len(calificaciones)\n",
        "\n",
        "print(\"Promedio de [8.5, 9.0, 7.5, 8.0]:\", promedio_calificaciones([8.5, 9.0, 7.5, 8.0]))"
      ],
      "metadata": {
        "id": "kata-6-code"
      },
      "execution_count": null,
      "outputs": []
    },
    {
      "cell_type": "markdown",
      "source": [
        "## 📚 Ejercicio 7: Factorial de un Número\n",
        "\n",
        "Desarrollar un programa que calcule el factorial de un número entero positivo ingresado por el usuario.\n",
        "El programa debe usar dos funciones:\n",
        "- `validar_entrada`: que verifique si el número es entero no negativo.\n",
        "- `factorial`: que reciba el número y devuelva su factorial (recordando que el factorial de 0 es 1)."
      ],
      "metadata": {
        "id": "kata-7-desc"
      }
    },
    {
      "cell_type": "code",
      "source": [
        "def factorial(n):\n",
        "    if n == 0:\n",
        "        return 1\n",
        "    resultado = 1\n",
        "    for i in range(1, n+1):\n",
        "        resultado *= i\n",
        "    return resultado\n",
        "\n",
        "numero = int(input(\"Ingrese un número entero no negativo para calcular su factorial: \"))\n",
        "print(\"El factorial de\", numero, \"es\", factorial(numero))"
      ],
      "metadata": {
        "id": "kata-7-code"
      },
      "execution_count": null,
      "outputs": []
    },
    {
      "cell_type": "markdown",
      "source": [
        "## 📚 Ejercicio 8: Verificador de Número Primo con Función de División\n",
        "\n",
        "Crear un programa que determine si un número entero positivo es primo. El programa debe usar dos funciones:\n",
        "- `es_divisible`: que reciba dos números enteros y devuelva `True` si el primero es divisible por el segundo.\n",
        "- `es_primo`: que use `es_divisible` para verificar si el número es primo."
      ],
      "metadata": {
        "id": "kata-8-desc"
      }
    },
    {
      "cell_type": "code",
      "source": [
        "def es_divisible(a, b):\n",
        "    if b == 0:\n",
        "        return False\n",
        "    return a % b == 0\n",
        "\n",
        "def es_primo(num):\n",
        "    if num < 2:\n",
        "        return False\n",
        "    for i in range(2, num):\n",
        "        if num % i == 0:\n",
        "            return False\n",
        "    return True\n",
        "\n",
        "num = int(input(\"Ingrese un número entero positivo: \"))\n",
        "if num < 0:\n",
        "    print(\"El número debe ser positivo\")\n",
        "else:\n",
        "    if es_primo(num):\n",
        "        print(num, \"es primo\")\n",
        "    else:\n",
        "        print(num, \"no es primo\")"
      ],
      "metadata": {
        "id": "kata-8-code"
      },
      "execution_count": null,
      "outputs": []
    },
    {
      "cell_type": "markdown",
      "source": [
        "## 📚 Ejercicio 9: Conversión de Temperaturas con Menú\n",
        "\n",
        "Desarrollar un programa que convierta una temperatura en grados Celsius a Fahrenheit o Kelvin. El programa principal debe:\n",
        "- Pedir la temperatura en Celsius.\n",
        "- Usar la función `menu_conversion` para obtener la unidad de destino (`\"F\"` o `\"K\"`).\n",
        "- Mostrar el resultado usando las funciones correspondientes `convertir_a_fahrenheit` y `convertir_a_kelvin`."
      ],
      "metadata": {
        "id": "kata-9-desc"
      }
    },
    {
      "cell_type": "code",
      "source": [
        "def convertir_a_fahrenheit(c):\n",
        "    return c * 9/5 + 32\n",
        "\n",
        "def convertir_a_kelvin(c):\n",
        "    return c + 273.15\n",
        "\n",
        "def menu_conversion():\n",
        "    opcion = input(\"¿Convertir a (F)ahrenheit o (K)elvin? \")\n",
        "    if opcion in [\"F\", \"K\"]:\n",
        "        return opcion\n",
        "    else:\n",
        "        return None\n",
        "\n",
        "c = float(input(\"Ingrese la temperatura en grados Celsius: \"))\n",
        "op = menu_conversion()\n",
        "if op == \"F\":\n",
        "    print(c, \"°C =\", convertir_a_fahrenheit(c), \"°F\")\n",
        "elif op == \"K\":\n",
        "    print(c, \"°C =\", convertir_a_kelvin(c), \"K\")\n",
        "else:\n",
        "    print(\"Opción incorrecta\")"
      ],
      "metadata": {
        "id": "kata-9-code"
      },
      "execution_count": null,
      "outputs": []
    },
    {
      "cell_type": "markdown",
      "source": [
        "## 📚 Ejercicio 10: Área y Perímetro de un Rectángulo con Validación de Dimensiones\n",
        "\n",
        "Escribir un programa que calcule el área y el perímetro de un rectángulo a partir de la longitud y anchura ingresadas por el usuario. El programa debe:\n",
        "- Pedir las dimensiones.\n",
        "- Validarlas con la función `validar_dimensiones` (deben ser números positivos).\n",
        "- Si son válidas, calcular y mostrar el área y el perímetro usando las funciones `calcular_area` y `calcular_perimetro`."
      ],
      "metadata": {
        "id": "kata-10-desc"
      }
    },
    {
      "cell_type": "code",
      "source": [
        "def validar_dimensiones(longitud, anchura):\n",
        "    return longitud > 0 and anchura > 0\n",
        "\n",
        "def calcular_area(longitud, anchura):\n",
        "    return longitud * anchura\n",
        "\n",
        "def calcular_perimetro(longitud, anchura):\n",
        "    return 2 * (longitud + anchura)\n",
        "\n",
        "longitud = float(input(\"Ingrese la longitud: \"))\n",
        "anchura = float(input(\"Ingrese la anchura: \"))\n",
        "if validar_dimensiones(longitud, anchura):\n",
        "    print(\"Área =\", calcular_area(longitud, anchura))\n",
        "    print(\"Perímetro =\", calcular_perimetro(longitud, anchura))\n",
        "else:\n",
        "    print(\"Las dimensiones deben ser mayores a cero\")"
      ],
      "metadata": {
        "id": "kata-10-code"
      },
      "execution_count": null,
      "outputs": []
    }
  ]
}