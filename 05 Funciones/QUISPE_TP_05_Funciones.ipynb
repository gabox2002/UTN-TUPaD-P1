{
 "cells": [
  {
   "cell_type": "markdown",
   "metadata": {},
   "source": [
    "<h4>\n",
    "<font color=\"#0000FF\">\n",
    "Gabriel Quispe\n",
    "</font>\n",
    "</h4>\n",
    "\n",
    "<h3>\n",
    "<b>Trabajo práctico 5: Funciones</b>\n",
    "</h3>\n",
    "\n"
   ]
  },
  {
   "cell_type": "markdown",
   "metadata": {},
   "source": [
    "#### **Ejercicio 1**\n",
    "\n",
    "Crear una función llamada imprimir_hola_mundo que imprima por pantalla el mensaje: “Hola Mundo!”. Llamar a esta función desde el programa principal.\n",
    "\n"
   ]
  },
  {
   "cell_type": "code",
   "execution_count": 1,
   "metadata": {},
   "outputs": [
    {
     "name": "stdout",
     "output_type": "stream",
     "text": [
      "Hola Mundo!\n"
     ]
    }
   ],
   "source": [
    "# Definimos la función\n",
    "def imprimir_hola_mundo():\n",
    "    print(\"Hola Mundo!\")\n",
    "\n",
    "# Programa principal\n",
    "imprimir_hola_mundo()"
   ]
  },
  {
   "cell_type": "markdown",
   "metadata": {},
   "source": [
    "#### **Ejercicio 2**\n",
    "\n",
    "Crear una función llamada saludar_usuario(nombre) que reciba como parámetro un nombre y devuelva un saludo personalizado. Por ejemplo, si se llama con saludar_usuario(\"Marcos\"), deberá devolver: “Hola Marcos!”. Llamar a esta función desde el programa principal solicitando el nombre al usuario.\n"
   ]
  },
  {
   "cell_type": "code",
   "execution_count": 2,
   "metadata": {},
   "outputs": [
    {
     "name": "stdout",
     "output_type": "stream",
     "text": [
      "Hola Gabriel!\n"
     ]
    }
   ],
   "source": [
    "# Definimos la función\n",
    "def saludar_usuario(nombre):\n",
    "  \"\"\"\n",
    "  Esta función recibe un nombre como parámetro y devuelve un saludo personalizado.\n",
    "\n",
    "  Args:\n",
    "    nombre: El nombre de la persona a saludar.\n",
    "\n",
    "  Returns:\n",
    "    Una cadena de texto con el saludo personalizado.\n",
    "  \"\"\"\n",
    "  return f\"Hola {nombre}!\"\n",
    "\n",
    "# Solicitar el nombre al usuario desde el programa principal\n",
    "nombre_del_usuario = input(\"Por favor, ingresa tu nombre: \")\n",
    "\n",
    "# Llamar a la función y almacenar el resultado\n",
    "saludo = saludar_usuario(nombre_del_usuario)\n",
    "\n",
    "# Imprimir el saludo personalizado\n",
    "print(saludo)\n"
   ]
  },
  {
   "cell_type": "markdown",
   "metadata": {},
   "source": [
    "#### **Ejercicio 3**\n",
    "Crear una función llamada informacion_personal(nombre, apellido, edad, residencia) que reciba cuatro parámetros e imprima: “Soy [nombre] [apellido], tengo [edad] años y vivo en [residencia]”. Pedir los datos al usuario y llamar a esta función con los valores ingresados.\n"
   ]
  },
  {
   "cell_type": "code",
   "execution_count": 5,
   "metadata": {},
   "outputs": [
    {
     "name": "stdout",
     "output_type": "stream",
     "text": [
      "Soy Lionel Messi, tengo 38 años y vivo en Rosario.\n"
     ]
    }
   ],
   "source": [
    "def informacion_personal(nombre, apellido, edad, residencia):\n",
    "  \"\"\"\n",
    "  Esta función recibe información personal e imprime un mensaje formateado.\n",
    "\n",
    "  Args:\n",
    "    nombre: El nombre de la persona.\n",
    "    apellido: El apellido de la persona.\n",
    "    edad: La edad de la persona.\n",
    "    residencia: El lugar de residencia de la persona.\n",
    "  \"\"\"\n",
    "  print(f\"Soy {nombre} {apellido}, tengo {edad} años y vivo en {residencia}.\")\n",
    "\n",
    "# Pedir los datos al usuario desde el programa principal\n",
    "nombre_usuario = input(\"Ingresa tu nombre: \")\n",
    "apellido_usuario = input(\"Ingresa tu apellido: \")\n",
    "edad_usuario = input(\"Ingresa tu edad: \") \n",
    "residencia_usuario = input(\"Ingresa tu lugar de residencia: \")\n",
    "\n",
    "# Llamar a la función con los valores ingresados por el usuario\n",
    "informacion_personal(nombre_usuario, apellido_usuario, edad_usuario, residencia_usuario)\n"
   ]
  },
  {
   "cell_type": "markdown",
   "metadata": {},
   "source": [
    "#### **Ejercicio 4**\n",
    "Crear dos funciones: calcular_area_circulo(radio) que reciba el radio como parámetro y devuelva el área del círculo. calcular_perimetro_circulo(radio) que reciba el radio como parámetro y devuelva el perímetro del círculo. Solicitar el radio al usuario y llamar ambas funciones para mostrar los resultados.\n"
   ]
  },
  {
   "cell_type": "code",
   "execution_count": 6,
   "metadata": {},
   "outputs": [
    {
     "name": "stdout",
     "output_type": "stream",
     "text": [
      "El área del círculo es: 314.16\n",
      "El perímetro del círculo es: 62.83\n"
     ]
    }
   ],
   "source": [
    "import math\n",
    "\n",
    "def calcular_area_circulo(radio):\n",
    "  \"\"\"\n",
    "  Calcula el área de un círculo dado su radio.\n",
    "\n",
    "  Args:\n",
    "    radio: El radio del círculo.\n",
    "\n",
    "  Returns:\n",
    "    El área del círculo.\n",
    "  \"\"\"\n",
    "  return math.pi * (radio ** 2)\n",
    "\n",
    "def calcular_perimetro_circulo(radio):\n",
    "  \"\"\"\n",
    "  Calcula el perímetro de un círculo dado su radio.\n",
    "\n",
    "  Args:\n",
    "    radio: El radio del círculo.\n",
    "\n",
    "  Returns:\n",
    "    El perímetro del círculo.\n",
    "  \"\"\"\n",
    "  return 2 * math.pi * radio\n",
    "\n",
    "# # --- Llamar a la función ---\n",
    "radio_usuario = float(input(\"Ingresa el radio del círculo: \"))\n",
    "\n",
    "area = calcular_area_circulo(radio_usuario)\n",
    "perimetro = calcular_perimetro_circulo(radio_usuario)\n",
    "\n",
    "print(f\"El área del círculo es: {area:.2f}\")\n",
    "print(f\"El perímetro del círculo es: {perimetro:.2f}\")"
   ]
  },
  {
   "cell_type": "markdown",
   "metadata": {},
   "source": [
    "#### **Ejercicio 5**\n",
    "Crear una función llamada segundos_a_horas(segundos) que reciba una cantidad de segundos como parámetro y devuelva la cantidad de horas correspondientes. Solicitar al usuario los segundos y mostrar el resultado usando esta función.\n"
   ]
  },
  {
   "cell_type": "code",
   "execution_count": 7,
   "metadata": {},
   "outputs": [
    {
     "name": "stdout",
     "output_type": "stream",
     "text": [
      "3600 segundos equivalen a 1.00 horas.\n"
     ]
    }
   ],
   "source": [
    "def segundos_a_horas(segundos):\n",
    "  \"\"\"\n",
    "  Convierte una cantidad de segundos a horas.\n",
    "\n",
    "  Args:\n",
    "    segundos: La cantidad de segundos a convertir.\n",
    "\n",
    "  Returns:\n",
    "    La cantidad de horas correspondientes.\n",
    "  \"\"\"\n",
    "  return segundos / 3600\n",
    "\n",
    "# Solicitar los segundos al usuario\n",
    "segundos = int(input(\"Ingresa la cantidad de segundos: \"))\n",
    "horas = segundos_a_horas(segundos)\n",
    "print(f\"{segundos} segundos equivalen a {horas:.2f} horas.\")"
   ]
  },
  {
   "cell_type": "markdown",
   "metadata": {},
   "source": [
    "#### **Ejercicio 6**\n",
    "Crear una función llamada tabla_multiplicar(numero) que reciba un número como parámetro y imprima la tabla de multiplicar de ese número del 1 al 10. Pedir al usuario el número y llamar a la función.\n"
   ]
  },
  {
   "cell_type": "code",
   "execution_count": 8,
   "metadata": {},
   "outputs": [
    {
     "name": "stdout",
     "output_type": "stream",
     "text": [
      "Tabla de multiplicar del 2:\n",
      "2 x 1 = 2\n",
      "2 x 2 = 4\n",
      "2 x 3 = 6\n",
      "2 x 4 = 8\n",
      "2 x 5 = 10\n",
      "2 x 6 = 12\n",
      "2 x 7 = 14\n",
      "2 x 8 = 16\n",
      "2 x 9 = 18\n",
      "2 x 10 = 20\n"
     ]
    }
   ],
   "source": [
    "def tabla_multiplicar(numero):\n",
    "  \"\"\"\n",
    "  Imprime la tabla de multiplicar de un número del 1 al 10.\n",
    "\n",
    "  Args:\n",
    "    numero: El número del cual se imprimirá la tabla de multiplicar.\n",
    "  \"\"\"\n",
    "  print(f\"Tabla de multiplicar del {numero}:\")\n",
    "  for i in range(1, 11):\n",
    "    print(f\"{numero} x {i} = {numero * i}\")\n",
    "\n",
    "# Solicitar el número al usuario\n",
    "numero_usuario = int(input(\"Ingresa un número para ver su tabla de multiplicar: \"))\n",
    "tabla_multiplicar(numero_usuario)"
   ]
  },
  {
   "cell_type": "markdown",
   "metadata": {},
   "source": [
    "#### **Ejercicio 7**\n",
    "Crear una función llamada operaciones_basicas(a, b) que reciba dos números como parámetros y devuelva una tupla con el resultado de sumarlos, restarlos, multiplicarlos y dividirlos. Mostrar los resultados de forma clara.\n"
   ]
  },
  {
   "cell_type": "code",
   "execution_count": 9,
   "metadata": {},
   "outputs": [
    {
     "name": "stdout",
     "output_type": "stream",
     "text": [
      "Suma: 2.0\n",
      "Resta: 2.0\n",
      "Multiplicación: 0.0\n",
      "División: Indefinido\n"
     ]
    }
   ],
   "source": [
    "def operaciones_basicas(a, b):\n",
    "  \"\"\"\n",
    "  Realiza suma, resta, multiplicación y división de dos números.\n",
    "\n",
    "  Args:\n",
    "    a: El primer número.\n",
    "    b: El segundo número.\n",
    "\n",
    "  Returns:\n",
    "    Una tupla con (suma, resta, multiplicacion, division).\n",
    "    La división devuelve None si el divisor es cero.\n",
    "  \"\"\"\n",
    "  return (a + b, a - b, a * b, a / b if b != 0 else \"Indefinido\")\n",
    "\n",
    "# Solicitar los números al usuario\n",
    "a = float(input(\"Ingresa el primer número: \"))\n",
    "b = float(input(\"Ingresa el segundo número: \"))\n",
    "suma, resta, multiplicacion, division = operaciones_basicas(a, b)\n",
    "\n",
    "# Llamar a la función\n",
    "resultados = operaciones_basicas(a, b)\n",
    "\n",
    "print(f\"Suma: {suma}\\nResta: {resta}\\nMultiplicación: {multiplicacion}\\nDivisión: {division}\")\n"
   ]
  },
  {
   "cell_type": "markdown",
   "metadata": {},
   "source": [
    "#### **Ejercicio 8**\n",
    "Crear una función llamada calcular_imc(peso, altura) que reciba el peso en kilogramos y la altura en metros, y devuelva el índice de masa corporal (IMC). Solicitar al usuario los datos y llamar a la función para mostrar el resultado con dos decimales.\n"
   ]
  },
  {
   "cell_type": "code",
   "execution_count": 10,
   "metadata": {},
   "outputs": [
    {
     "name": "stdout",
     "output_type": "stream",
     "text": [
      "Tu IMC es: 22.99\n"
     ]
    }
   ],
   "source": [
    "def calcular_imc(peso, altura):\n",
    "  \"\"\"\n",
    "  Calcula el Índice de Masa Corporal (IMC).\n",
    "\n",
    "  Args:\n",
    "    peso: El peso en kilogramos.\n",
    "    altura: La altura en metros.\n",
    "\n",
    "  Returns:\n",
    "    El valor del IMC.\n",
    "  \"\"\"\n",
    "  if altura <= 0:\n",
    "    return None # Evitar división por cero o altura inválida\n",
    "  return peso / (altura ** 2)\n",
    "\n",
    "# Solicitar los datos al usuario\n",
    "peso = float(input(\"Ingresa tu peso (kg): \"))\n",
    "altura = float(input(\"Ingresa tu altura (m): \"))\n",
    "imc = calcular_imc(peso, altura)\n",
    "print(f\"Tu IMC es: {imc:.2f}\")"
   ]
  },
  {
   "cell_type": "markdown",
   "metadata": {},
   "source": [
    "#### **Ejercicio 9**\n",
    "\n",
    "Crear una función llamada celsius_a_fahrenheit(celsius) que reciba una temperatura en grados Celsius y devuelva su equivalente en Fahrenheit. Pedir al usuario la temperatura en Celsius y mostrar el resultado usando la función.\n"
   ]
  },
  {
   "cell_type": "code",
   "execution_count": 11,
   "metadata": {},
   "outputs": [
    {
     "name": "stdout",
     "output_type": "stream",
     "text": [
      "30.0°C equivalen a 86.00°F\n"
     ]
    }
   ],
   "source": [
    "def celsius_a_fahrenheit(celsius):\n",
    "  \"\"\"\n",
    "  Convierte una temperatura de grados Celsius a Fahrenheit.\n",
    "\n",
    "  Args:\n",
    "    celsius: La temperatura en grados Celsius.\n",
    "\n",
    "  Returns:\n",
    "    La temperatura equivalente en Fahrenheit.\n",
    "  \"\"\"\n",
    "  return (celsius * 9/5) + 32\n",
    "\n",
    "# Pedir la temperatura en Celsius al usuario\n",
    "celsius = float(input(\"Ingresa la temperatura en Celsius: \"))\n",
    "fahrenheit = celsius_a_fahrenheit(celsius)\n",
    "print(f\"{celsius}°C equivalen a {fahrenheit:.2f}°F\")"
   ]
  },
  {
   "cell_type": "markdown",
   "metadata": {},
   "source": [
    "#### **Ejercicio 10**\n",
    "Crear una función llamada calcular_promedio(a, b, c) que reciba tres números como parámetros y devuelva el promedio de ellos. Solicitar los números al usuario y mostrar el resultado usando esta función\n"
   ]
  },
  {
   "cell_type": "code",
   "execution_count": 12,
   "metadata": {},
   "outputs": [
    {
     "name": "stdout",
     "output_type": "stream",
     "text": [
      "El promedio es: 20.00\n"
     ]
    }
   ],
   "source": [
    "def calcular_promedio(a, b, c):\n",
    "  \"\"\"\n",
    "  Calcula el promedio de tres números.\n",
    "\n",
    "  Args:\n",
    "    a: El primer número.\n",
    "    b: El segundo número.\n",
    "    c: El tercer número.\n",
    "\n",
    "  Returns:\n",
    "    El promedio de los tres números.\n",
    "  \"\"\"\n",
    "  return (a + b + c) / 3\n",
    "\n",
    "# Solicitar los números al usuario\n",
    "a = float(input(\"Primer número: \"))\n",
    "b = float(input(\"Segundo número: \"))\n",
    "c = float(input(\"Tercer número: \"))\n",
    "    \n",
    "# Llamar a la función y mostrar el resultado\n",
    "promedio = calcular_promedio(a, b, c)\n",
    "print(f\"El promedio es: {promedio:.2f}\")"
   ]
  }
 ],
 "metadata": {
  "kernelspec": {
   "display_name": "Python 3",
   "language": "python",
   "name": "python3"
  },
  "language_info": {
   "codemirror_mode": {
    "name": "ipython",
    "version": 3
   },
   "file_extension": ".py",
   "mimetype": "text/x-python",
   "name": "python",
   "nbconvert_exporter": "python",
   "pygments_lexer": "ipython3",
   "version": "3.13.3"
  }
 },
 "nbformat": 4,
 "nbformat_minor": 2
}
