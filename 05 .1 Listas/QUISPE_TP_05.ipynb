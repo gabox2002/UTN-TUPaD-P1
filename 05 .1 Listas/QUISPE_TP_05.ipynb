{
 "cells": [
  {
   "cell_type": "markdown",
   "metadata": {},
   "source": [
    "<h4>\n",
    "<font color=\"#0000FF\">\n",
    "Gabriel Quispe\n",
    "</font>\n",
    "</h4>\n",
    "\n",
    "<h3>\n",
    "<b>Trabajo práctico 5: Listas</b>\n",
    "</h3>\n",
    "\n"
   ]
  },
  {
   "cell_type": "markdown",
   "metadata": {},
   "source": [
    "#### **Ejercicio 1**\n",
    "\n",
    "Crear una lista con los números del 1 al 100 que sean múltiplos de 4. Utilizar la función range.\n"
   ]
  },
  {
   "cell_type": "code",
   "execution_count": 1,
   "metadata": {},
   "outputs": [
    {
     "name": "stdout",
     "output_type": "stream",
     "text": [
      "[4, 8, 12, 16, 20, 24, 28, 32, 36, 40, 44, 48, 52, 56, 60, 64, 68, 72, 76, 80, 84, 88, 92, 96, 100]\n"
     ]
    }
   ],
   "source": [
    "#Crear una lista con múltiplos de 4 del 1 al 100\n",
    "multiplos_de_cuatro = list(range(4, 101, 4))\n",
    "print(multiplos_de_cuatro)"
   ]
  },
  {
   "cell_type": "markdown",
   "metadata": {},
   "source": [
    "#### **Ejercicio 2**\n",
    "\n",
    "Crear una lista con cinco elementos (colocar los elementos que más te gusten) y mostrar el penúltimo. ¡Puedes hacerlo como se muestra en los videos o bien investigar cómo funciona el indexing con números negativos!"
   ]
  },
  {
   "cell_type": "code",
   "execution_count": 2,
   "metadata": {},
   "outputs": [
    {
     "name": "stdout",
     "output_type": "stream",
     "text": [
      "El penúltimo elemento de la lista es: el café\n"
     ]
    }
   ],
   "source": [
    "#lista inicial\n",
    "favoritos = [\"los gatos\", \"las peliculas\", \"la música\", \"el café\", \"la programación\"]\n",
    "\n",
    "# Accediendo al penúltimo elemento utilizando indexación negativa\n",
    "penultimo_elemento = favoritos[-2]\n",
    "print(f\"El penúltimo elemento de la lista es: {penultimo_elemento}\")\n"
   ]
  },
  {
   "cell_type": "markdown",
   "metadata": {},
   "source": [
    "#### **Ejercicio 3**\n",
    "Crear una lista vacía, agregar tres palabras con append e imprimir la lista resultante por pantalla. Pista: para crear una lista vacía debes colocar los corchetes sin nada en su interior. Por ejemplo:"
   ]
  },
  {
   "cell_type": "code",
   "execution_count": 3,
   "metadata": {},
   "outputs": [
    {
     "name": "stdout",
     "output_type": "stream",
     "text": [
      "Lista resultante: ['café', 'té', 'mate']\n"
     ]
    }
   ],
   "source": [
    "# Crear una lista vacía\n",
    "lista_vacia = []\n",
    "\n",
    "# Agregar tres palabras con append\n",
    "lista_vacia.append('café')\n",
    "lista_vacia.append('té')\n",
    "lista_vacia.append('mate')\n",
    "\n",
    "# Imprimir la lista resultante\n",
    "print(\"Lista resultante:\", lista_vacia)\n"
   ]
  },
  {
   "cell_type": "markdown",
   "metadata": {},
   "source": [
    "#### **Ejercicio 4**\n",
    "Reemplazar el segundo y último valor de la lista “animales” con las palabras “loro” y “oso”, respectivamente. Imprimir la lista resultante por pantalla. ¡Puedes hacerlo como se muestra en los videos o bien investigar cómo funciona el indexing con números negativos!"
   ]
  },
  {
   "cell_type": "code",
   "execution_count": null,
   "metadata": {},
   "outputs": [
    {
     "name": "stdout",
     "output_type": "stream",
     "text": [
      "La lista de animales modificada es: ['perro', 'loro', 'conejo', 'oso']\n"
     ]
    }
   ],
   "source": [
    "# Lista original\n",
    "animales = [\"perro\", \"gato\", \"conejo\", \"pez\"]\n",
    "\n",
    "# Reemplazando el segundo elemento (índice 1) con \"loro\"\n",
    "animales[1] = \"loro\"\n",
    "\n",
    "# Reemplazando el último elemento (índice -1) con \"oso\"\n",
    "animales[-1] = \"oso\"\n",
    "\n",
    "print(f\"La lista de animales modificada es: {animales}\")"
   ]
  },
  {
   "cell_type": "markdown",
   "metadata": {},
   "source": [
    "#### **Ejercicio 5**\n",
    "Analizar el siguiente programa y explicar con tus palabras qué es lo que realiza.\n",
    "```python\n",
    "numeros = [8, 15, 3, 22, 7]\n",
    "numeros.remove(max(numeros))\n",
    "print()"
   ]
  },
  {
   "cell_type": "markdown",
   "metadata": {},
   "source": [
    "1. Se crea una lista llamada numeros que contiene cinco números enteros: 8, 15, 3, 22, 7.\n",
    "\n",
    "2. Se usa max(numeros) para encontrar el número más grande en esa lista, que es 22.\n",
    "\n",
    "3. Se usa remove(...) para eliminar ese número (22) de la lista.\n",
    "\n",
    "4. La función print() se llama sin ningún argumento dentro de los paréntesis. Cuando se usa de esta manera, simplemente imprime una línea en blanco en la consola."
   ]
  },
  {
   "cell_type": "markdown",
   "metadata": {},
   "source": [
    "#### **Ejercicio 6**\n",
    "Crear una lista con números del 10 al 30 (incluído), haciendo saltos de 5 en 5 y mostrar por pantalla los dos primeros."
   ]
  },
  {
   "cell_type": "code",
   "execution_count": 5,
   "metadata": {},
   "outputs": [
    {
     "name": "stdout",
     "output_type": "stream",
     "text": [
      "La lista completa es: [10, 15, 20, 25, 30]\n",
      "Los dos primeros elementos de la lista son: [10, 15]\n"
     ]
    }
   ],
   "source": [
    "# Crear la lista con números del 10 al 30, saltando de 5 en 5\n",
    "lista_saltos_de_cinco = list(range(10, 31, 5))\n",
    "print(f\"La lista completa es: {lista_saltos_de_cinco}\")\n",
    "\n",
    "# Mostrando los dos primeros elementos utilizando slicing\n",
    "dos_primeros = lista_saltos_de_cinco[0:2]\n",
    "print(f\"Los dos primeros elementos de la lista son: {dos_primeros}\")"
   ]
  },
  {
   "cell_type": "markdown",
   "metadata": {},
   "source": [
    "#### **Ejercicio 7**\n",
    "Reemplazar los dos valores centrales (índices 1 y 2) de la lista “autos” por dos nuevos valores cualesquiera."
   ]
  },
  {
   "cell_type": "code",
   "execution_count": 6,
   "metadata": {},
   "outputs": [
    {
     "name": "stdout",
     "output_type": "stream",
     "text": [
      "La lista de autos modificada es: ['sedan', 'tracker', 'kangoo', 'gol']\n"
     ]
    }
   ],
   "source": [
    "# Lista original\n",
    "autos = [\"sedan\", \"polo\", \"suran\", \"gol\"]\n",
    "\n",
    "# Reemplazando los valores en los índices 1 y 2\n",
    "autos[1:3] = [\"tracker\", \"kangoo\"]\n",
    "\n",
    "print(f\"La lista de autos modificada es: {autos}\")"
   ]
  },
  {
   "cell_type": "markdown",
   "metadata": {},
   "source": [
    "#### **Ejercicio 8**\n",
    "Crear una lista vacía llamada \"dobles\" y agregar el doble de 5, 10 y 15 usando append directamente. Imprimir la lista resultante por pantalla."
   ]
  },
  {
   "cell_type": "code",
   "execution_count": 7,
   "metadata": {},
   "outputs": [
    {
     "name": "stdout",
     "output_type": "stream",
     "text": [
      "La lista de los dobles es: [10, 20, 30]\n"
     ]
    }
   ],
   "source": [
    "# Crear una lista vacía\n",
    "dobles = []\n",
    "\n",
    "# Agregar el doble de 5, 10 y 15\n",
    "dobles.append(5 * 2)\n",
    "dobles.append(10 * 2)\n",
    "dobles.append(15 * 2)\n",
    "\n",
    "# Imprimir la lista resultante\n",
    "print(f\"La lista de los dobles es: {dobles}\")"
   ]
  },
  {
   "cell_type": "markdown",
   "metadata": {},
   "source": [
    "#### **Ejercicio 9**\n",
    "\n",
    "Dada la lista “compras”, cuyos elementos representan los productos comprados por diferentes clientes:"
   ]
  },
  {
   "cell_type": "code",
   "execution_count": 8,
   "metadata": {},
   "outputs": [
    {
     "name": "stdout",
     "output_type": "stream",
     "text": [
      "La lista de compras resultante es: [['leche'], ['arroz', 'tallarines', 'salsa'], ['agua', 'jugo']]\n"
     ]
    }
   ],
   "source": [
    "# Lista original de compras\n",
    "compras = [[\"pan\", \"leche\"], [\"arroz\", \"fideos\", \"salsa\"],[\"agua\"]]\n",
    "\n",
    "# a) Agregar \"jugo\" a la lista del tercer cliente usando append.\n",
    "compras[2].append(\"jugo\")\n",
    "\n",
    "# b) Reemplazar \"fideos\" por \"tallarines\" en la lista del segundo cliente.\n",
    "compras[1][1] = \"tallarines\"\n",
    "\n",
    "# c) Eliminar \"pan\" de la lista del primer cliente.\n",
    "compras[0].remove(\"pan\")\n",
    "\n",
    "# d) Imprimir la lista resultante por pantalla\n",
    "print(f\"La lista de compras resultante es: {compras}\")"
   ]
  },
  {
   "cell_type": "markdown",
   "metadata": {},
   "source": [
    "#### **Ejercicio 10**\n",
    "Elaborar una lista anidada llamada “lista_anidada” que contenga los siguientes elementos:\n",
    "```python\n",
    "● Posición lista_anidada[0]: 15\n",
    "● Posición lista_anidada[1]: True\n",
    "● Posición lista_anidada[2][0]: 25.5\n",
    "● Posición lista_anidada[2][1]: 57.9\n",
    "● Posición lista_anidada[2][2]: 30.6\n",
    "● Posición lista_anidada[3]: False"
   ]
  },
  {
   "cell_type": "code",
   "execution_count": 9,
   "metadata": {},
   "outputs": [
    {
     "name": "stdout",
     "output_type": "stream",
     "text": [
      "La lista anidada resultante es: [15, True, [25.5, 57.9, 30.6], False]\n"
     ]
    }
   ],
   "source": [
    "# Crear la lista anidada\n",
    "lista_anidada = [15, True, [25.5, 57.9, 30.6], False]\n",
    "# Imprimir la lista resultante por pantalla.\n",
    "print(f\"La lista anidada resultante es: {lista_anidada}\")"
   ]
  }
 ],
 "metadata": {
  "kernelspec": {
   "display_name": "Python 3",
   "language": "python",
   "name": "python3"
  },
  "language_info": {
   "codemirror_mode": {
    "name": "ipython",
    "version": 3
   },
   "file_extension": ".py",
   "mimetype": "text/x-python",
   "name": "python",
   "nbconvert_exporter": "python",
   "pygments_lexer": "ipython3",
   "version": "3.13.2"
  }
 },
 "nbformat": 4,
 "nbformat_minor": 2
}
