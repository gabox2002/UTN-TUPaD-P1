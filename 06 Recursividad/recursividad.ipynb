{
 "cells": [
  {
   "cell_type": "markdown",
   "metadata": {},
   "source": [
    "# Guía Completa sobre Recursividad en Python"
   ]
  },
  {
   "cell_type": "markdown",
   "metadata": {},
   "source": [
    "## ¿Qué es la recursividad?\n",
    "La recursividad es una técnica de programación en la cual una función se llama a sí misma para resolver un problema.  Cada llamada recursiva resuelve una parte del problema, y el conjunto de llamadas sucesivas permiten alcanzar la solución final. "
   ]
  },
  {
   "cell_type": "markdown",
   "metadata": {},
   "source": [
    "## ¿Cómo funciona? \n",
    "Una función recursiva tiene dos componentes clave:\n",
    "1. **Caso base (o condición de corte):** Es la condición que detiene la recursión, evitando que el proceso se repita infinitamente. \n",
    "2. **Paso recursivo:** Es la parte donde la función se llama a sí misma con un problema más pequeño o una versión modificada del mismo. "
   ]
  },
  {
   "cell_type": "markdown",
   "metadata": {},
   "source": [
    "### Ejemplo simple: cuenta regresiva"
   ]
  },
  {
   "cell_type": "code",
   "execution_count": null,
   "metadata": {},
   "outputs": [],
   "source": [
    "def cuenta_regresiva(n):\n",
    "    if n == 0:\n",
    "        print(\"¡Despegue!\")\n",
    "    else:\n",
    "        print(n)\n",
    "        cuenta_regresiva(n - 1)\n",
    "\n",
    "cuenta_regresiva(5)"
   ]
  },
  {
   "cell_type": "markdown",
   "metadata": {},
   "source": [
    "### Diagrama conceptual de la recursividad\n",
    "Imaginemos la función `cuenta_regresiva(3)` como una pila de llamadas:\n",
    "```\n",
    "cuenta_regresiva(3)\n",
    "  cuenta_regresiva(2)\n",
    "    cuenta_regresiva(1)\n",
    "      cuenta_regresiva(0) imprime \"¡Despegue!\"\n",
    "```\n",
    "Cada llamada queda \"en pausa\" hasta que termina la más interna, y luego se deshacen en orden inverso. "
   ]
  },
  {
   "cell_type": "markdown",
   "metadata": {},
   "source": [
    "### Ejemplo clásico: factorial de un número\n",
    "La función factorial se define matemáticamente así:\n",
    "$$ \\text{factorial}(0) = 1 $$\n",
    "$$ \\text{factorial}(n) = n \\cdot \\text{factorial}(n-1) $$"
   ]
  },
  {
   "cell_type": "markdown",
   "metadata": {},
   "source": [
    "#### Implementación en Python:"
   ]
  },
  {
   "cell_type": "code",
   "execution_count": null,
   "metadata": {},
   "outputs": [],
   "source": [
    "def factorial(n):\n",
    "    if n == 0:\n",
    "        return 1\n",
    "    else:\n",
    "        return n * factorial(n - 1)\n",
    "\n",
    "print(factorial(5)) # Resultado: 120"
   ]
  },
  {
   "cell_type": "markdown",
   "metadata": {},
   "source": [
    "### Comparación entre recursión y bucle"
   ]
  },
  {
   "cell_type": "markdown",
   "metadata": {},
   "source": [
    "#### Con bucle:"
   ]
  },
  {
   "cell_type": "code",
   "execution_count": null,
   "metadata": {},
   "outputs": [],
   "source": [
    "def factorial_iterativo(n):\n",
    "    resultado = 1\n",
    "    for i in range(1, n + 1):\n",
    "        resultado *= i\n",
    "    return resultado"
   ]
  },
  {
   "cell_type": "markdown",
   "metadata": {},
   "source": [
    "#### Con recursión:\n",
    "Más elegante, pero puede consumir más memoria (por el uso de la pila de llamadas). "
   ]
  },
  {
   "cell_type": "markdown",
   "metadata": {},
   "source": [
    "## Consideraciones importantes \n",
    "La recursión debe tener un caso base claro, o se producirá un error de recursión infinita (`RecursionError`).  Python tiene un límite de profundidad recursiva (por defecto es 1000 llamadas). "
   ]
  },
  {
   "cell_type": "code",
   "execution_count": null,
   "metadata": {},
   "outputs": [],
   "source": [
    "import sys\n",
    "print(sys.getrecursionlimit()) # Generalmente 1000"
   ]
  },
  {
   "cell_type": "markdown",
   "metadata": {},
   "source": [
    "### Ejemplo útil: suma de una lista"
   ]
  },
  {
   "cell_type": "code",
   "execution_count": null,
   "metadata": {},
   "outputs": [],
   "source": [
    "def suma_lista(lista):\n",
    "    if not lista:\n",
    "        return 0\n",
    "    else:\n",
    "        return lista[0] + suma_lista(lista[1:])\n",
    "\n",
    "print(suma_lista([1, 2, 3, 4])) # Resultado: 10"
   ]
  },
  {
   "cell_type": "markdown",
   "metadata": {},
   "source": [
    "### Ejemplo más complejo: Fibonacci"
   ]
  },
  {
   "cell_type": "code",
   "execution_count": null,
   "metadata": {},
   "outputs": [],
   "source": [
    "def fibonacci(n):\n",
    "    if n == 0 or n == 1:\n",
    "        return n\n",
    "    else:\n",
    "        return fibonacci(n - 1) + fibonacci(n - 2)\n",
    "\n",
    "print(fibonacci(6)) # Resultado: 8"
   ]
  },
  {
   "cell_type": "markdown",
   "metadata": {},
   "source": [
    "**Nota:** Esta versión no es eficiente para valores grandes. Se pueden aplicar técnicas como memoización para mejorarla. "
   ]
  },
  {
   "cell_type": "markdown",
   "metadata": {},
   "source": [
    "## ¿Cuándo usar recursividad? \n",
    "* Cuando el problema tiene una estructura repetitiva anidada o se puede dividir en subproblemas similares. \n",
    "* Es útil en árboles, estructuras jerárquicas, algoritmos de búsqueda, y más. "
   ]
  },
  {
   "cell_type": "markdown",
   "metadata": {},
   "source": [
    "## ¿Qué es el stack o pila de llamadas? \n",
    "Cuando se llama a una función en Python, el programa guarda la información de esa llamada en una pila, conocida como *call stack* (pila de llamadas).  Cada vez que una función se llama a sí misma, se agrega un nuevo marco de ejecución (*stack frame*) al tope de la pila.  Cuando una función termina, ese marco se elimina (*pop*) de la pila. "
   ]
  },
  {
   "cell_type": "markdown",
   "metadata": {},
   "source": [
    "Imaginá la pila como una torre de cajas: \n",
    "* Cada caja representa una llamada a la función. \n",
    "* Cuando la función se llama a sí misma, se apila una nueva caja. \n",
    "* Cuando la llamada termina, se quita la caja superior. "
   ]
  },
  {
   "cell_type": "markdown",
   "metadata": {},
   "source": [
    "## ¿Por qué puede llenarse el stack con la recursividad? \n",
    "La recursividad agrega una nueva capa al stack por cada llamada, sin reutilizar las anteriores.  Si hay muchas llamadas recursivas, la pila crece demasiado y se produce un error llamado: \n",
    "```\n",
    "RecursionError: maximum recursion depth exceeded\n",
    "```\n",
    "En cambio, en un bucle `for`, todo ocurre en el mismo marco de ejecución, sin usar más espacio en la pila.  Por eso un bucle puede repetirse millones de veces sin problema. "
   ]
  },
  {
   "cell_type": "markdown",
   "metadata": {},
   "source": [
    "### Ejemplo gráfico\n",
    "#### Recursión (stack se llena): \n",
    "```\n",
    "factorial(3)\n",
    "  factorial(2)\n",
    "    factorial(1)\n",
    "      factorial(0)\n",
    "```\n",
    "Cada una de estas funciones espera que termine la siguiente para poder continuar. \n",
    "#### Bucle `for` (misma pila, sin crecer): "
   ]
  },
  {
   "cell_type": "code",
   "execution_count": null,
   "metadata": {},
   "outputs": [],
   "source": [
    "def factorial_iterativo(n):\n",
    "    resultado = 1\n",
    "    for i in range(1, n + 1):\n",
    "        resultado *= i\n",
    "    # El ciclo se ejecuta en una sola función activa, sin agregar marcos a la pila.\n",
    "    return resultado"
   ]
  }
 ],
 "metadata": {
  "kernelspec": {
   "display_name": "Python 3",
   "language": "python",
   "name": "python3"
  },
  "language_info": {
   "codemirror_mode": {
    "name": "ipython",
    "version": 3
   },
   "file_extension": ".py",
   "mimetype": "text/x-python",
   "name": "python",
   "nbconvert_exporter": "python",
   "pygments_lexer": "ipython3",
   "version": "3.9.7"
  }
 },
 "nbformat": 4,
 "nbformat_minor": 4
}
