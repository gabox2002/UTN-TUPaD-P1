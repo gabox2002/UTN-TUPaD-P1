{
 "cells": [
  {
   "cell_type": "markdown",
   "metadata": {},
   "source": [
    "<h4>\n",
    "<font color=\"#0000FF\">\n",
    "Gabriel Quispe\n",
    "</font>\n",
    "</h4>\n",
    "\n",
    "<h3>\n",
    "<b>Trabajo práctico 6: Recursividad</b>\n",
    "</h3>\n",
    "\n"
   ]
  },
  {
   "cell_type": "markdown",
   "metadata": {},
   "source": [
    "#### **Ejercicio 1**\n",
    "\n",
    "Crea una función recursiva que calcule el factorial de un número. Luego, utiliza esa \n",
    "función para calcular y mostrar en pantalla el factorial de todos los números enteros \n",
    "entre 1 y el número que indique el usuario\n"
   ]
  },
  {
   "cell_type": "code",
   "execution_count": 2,
   "metadata": {},
   "outputs": [
    {
     "name": "stdout",
     "output_type": "stream",
     "text": [
      "\n",
      "Factoriales del 1 al 6:\n",
      "1! = 1\n",
      "2! = 2\n",
      "3! = 6\n",
      "4! = 24\n",
      "5! = 120\n",
      "6! = 720\n"
     ]
    }
   ],
   "source": [
    "# Función recursiva para calcular el factorial\n",
    "def factorial(n):\n",
    "    \"\"\"\n",
    "    Calcula el factorial de un número entero no negativo de forma recursiva.\n",
    "\n",
    "    Args:\n",
    "        n: El número entero no negativo para el cual se calculará el factorial.\n",
    "\n",
    "    Returns:\n",
    "        El factorial de n.\n",
    "    \"\"\"\n",
    "    if n == 0 or n == 1:\n",
    "        return 1\n",
    "    else:\n",
    "        return n * factorial(n - 1)\n",
    "    \n",
    "# Pedir al usuario un número entero positivo\n",
    "numero = int(input(\"Ingresa un número entero positivo: \"))\n",
    "\n",
    "# Verificar que el número sea válido\n",
    "if numero < 1:\n",
    "    print(\"Por favor, ingresa un número mayor o igual a 1.\")\n",
    "else:\n",
    "    print(f\"\\nFactoriales del 1 al {numero}:\")\n",
    "    for i in range(1, numero + 1):\n",
    "        print(f\"{i}! = {factorial(i)}\")\n"
   ]
  },
  {
   "cell_type": "markdown",
   "metadata": {},
   "source": [
    "#### **Ejercicio 2**\n",
    "\n",
    "Crea una función recursiva que calcule el valor de la serie de Fibonacci en la posición indicada. Posteriormente, muestra la serie completa hasta la posición que el usuario especifique.\n"
   ]
  },
  {
   "cell_type": "code",
   "execution_count": 3,
   "metadata": {},
   "outputs": [
    {
     "name": "stdout",
     "output_type": "stream",
     "text": [
      "\n",
      "Serie de Fibonacci hasta la posición 8:\n",
      "F(0) = 0\n",
      "F(1) = 1\n",
      "F(2) = 1\n",
      "F(3) = 2\n",
      "F(4) = 3\n",
      "F(5) = 5\n",
      "F(6) = 8\n",
      "F(7) = 13\n",
      "F(8) = 21\n"
     ]
    }
   ],
   "source": [
    "\n",
    "# Función recursiva para calcular el valor de Fibonacci en la posición n\n",
    "\n",
    "def fibonacci(n):\n",
    "    \"\"\"\n",
    "    Calcula el valor de la serie de Fibonacci en la posición indicada de forma recursiva.\n",
    "\n",
    "    Args:\n",
    "        n: La posición en la serie de Fibonacci (empezando desde 0).\n",
    "\n",
    "    Returns:\n",
    "        El valor de Fibonacci en la posición especificada.\n",
    "    \"\"\"\n",
    "    if n <= 0:\n",
    "        return 0\n",
    "    elif n == 1:\n",
    "        return 1\n",
    "    else:\n",
    "        return fibonacci(n - 1) + fibonacci(n - 2)\n",
    "    \n",
    "# Solicitar al usuario una posición\n",
    "posicion = int(input(\"Ingresa hasta qué posición mostrar la serie de Fibonacci: \"))\n",
    "\n",
    "# Validar entrada\n",
    "if posicion < 0:\n",
    "    print(\"Por favor, ingresa un número mayor o igual a 0.\")\n",
    "else:\n",
    "    print(f\"\\nSerie de Fibonacci hasta la posición {posicion}:\")\n",
    "    for i in range(posicion + 1):\n",
    "        print(f\"F({i}) = {fibonacci(i)}\")"
   ]
  },
  {
   "cell_type": "markdown",
   "metadata": {},
   "source": [
    "#### **Ejercicio 3**\n",
    "Crea una función recursiva que calcule la potencia de un número base elevado a un \n",
    "exponente, utilizando la fórmula $n^m = n * n^{(m-1)}$\n",
    ". Prueba esta función en un \n",
    "algoritmo general.\n"
   ]
  },
  {
   "cell_type": "code",
   "execution_count": 8,
   "metadata": {},
   "outputs": [
    {
     "name": "stdout",
     "output_type": "stream",
     "text": [
      "\n",
      "El resultado de 2 elevado a la 8 es: 256\n"
     ]
    }
   ],
   "source": [
    "# Función recursiva para calcular la potencia de un número\n",
    "def potencia(base, exponente):\n",
    "    \"\"\"\n",
    "    Calcula la potencia de un número base elevado a un exponente de forma recursiva.\n",
    "\n",
    "    Args:\n",
    "        base: El número base.\n",
    "        exponente: El exponente (debe ser un entero no negativo para esta implementación).\n",
    "\n",
    "    Returns:\n",
    "        El resultado de base elevado a la exponente.\n",
    "    \"\"\"\n",
    "    if exponente == 0:\n",
    "        return 1  # Cualquier número elevado a la 0 es 1 (excepto 0^0 que puede ser indefinido o 1 según el contexto).\n",
    "    elif exponente < 0:\n",
    "        print(\"Advertencia: Esta función está diseñada para exponentes no negativos según la fórmula n^m = n * n^(m-1).\")\n",
    "        return print(\"Entrada inválida. Por favor, ingresa un número entero para el exponente.\")\n",
    "\n",
    "    else:\n",
    "        return base * potencia(base, exponente - 1)\n",
    "    \n",
    "# Algoritmo general para probar la función\n",
    "base = int(input(\"Ingresa la base: \"))\n",
    "exponente = int(input(\"Ingresa el exponente (número entero positivo): \"))\n",
    "\n",
    "resultado = potencia(base, exponente)\n",
    "print(f\"\\nEl resultado de {base} elevado a la {exponente} es: {resultado}\")\n"
   ]
  },
  {
   "cell_type": "markdown",
   "metadata": {},
   "source": [
    "#### **Ejercicio 4**\n",
    "Crear una función recursiva en Python que reciba un número entero positivo en base decimal y devuelva su representación en binario como una cadena de texto.\n",
    "\n",
    "Cuando representamos un número en binario, lo expresamos usando solamente ceros (0) y unos (1), en base 2. Para convertir un número decimal a binario, se puede seguir este procedimiento: \n",
    "1. Dividir el número por 2.\n",
    "2. Guardar el resto (0 o 1).\n",
    "3. Repetir el proceso con el cociente hasta que llegue a 0.\n",
    "4. Los restos obtenidos, leídos de abajo hacia arriba, forman el número binario.\n",
    "\n",
    "Ejemplo:\n",
    "Convertir el número 10 a binario:\n",
    "\n",
    "&nbsp;&nbsp;&nbsp;&nbsp;10 ÷ 2 = 5 resto: 0  \n",
    "&nbsp;&nbsp;&nbsp;&nbsp;5 ÷ 2 = 2 resto: 1  \n",
    "&nbsp;&nbsp;&nbsp;&nbsp;2 ÷ 2 = 1 resto: 0  \n",
    "&nbsp;&nbsp;&nbsp;&nbsp;1 ÷ 2 = 0 resto: 1  \n",
    "\n",
    "Leyendo los restos de abajo hacia arriba: 1 0 1 0 → El resultado binario es \"1010\".\n"
   ]
  },
  {
   "cell_type": "code",
   "execution_count": null,
   "metadata": {},
   "outputs": [
    {
     "name": "stdout",
     "output_type": "stream",
     "text": [
      "El número 13 en binario es: 1101\n"
     ]
    }
   ],
   "source": [
    "# Función recursiva que convierte un número decimal a binario (como cadena)\n",
    "def decimal_a_binario(n):\n",
    "    \"\"\"\n",
    "    Convierte un número entero positivo en base decimal a su representación binaria\n",
    "    como una cadena de texto, utilizando un enfoque recursivo.\n",
    "\n",
    "    Args:\n",
    "        n: Un número entero positivo en base decimal.\n",
    "\n",
    "    Returns:\n",
    "        Una cadena de texto que representa el número en binario.\n",
    "    \"\"\"\n",
    "    if n == 0:\n",
    "        return \"0\"  # Caso base: el 0 en decimal es \"0\" en binario.\n",
    "    elif n == 1:\n",
    "        return \"1\"  # Caso base: el 1 en decimal es \"1\" en binario.\n",
    "    else:\n",
    "        # Paso recursivo:\n",
    "        resto = n % 2\n",
    "        # 2. Repetir el proceso con el cociente.\n",
    "        cociente = n // 2\n",
    "        # 3. Concatenar el resultado de la llamada recursiva con el resto actual.\n",
    "        return decimal_a_binario(cociente) + str(resto)\n",
    "\n",
    "# Pedir al usuario un número entero positivo\n",
    "numero = int(input(\"Ingresa un número entero positivo: \"))\n",
    "\n",
    "# Validar y mostrar resultado\n",
    "if numero < 0:\n",
    "    print(\"Por favor, ingresa un número entero positivo.\")\n",
    "elif numero == 0:\n",
    "    print(\"El número binario es: 0\")\n",
    "else:\n",
    "    binario = decimal_a_binario(numero)\n",
    "    print(f\"El número {numero} en binario es: {binario}\")\n",
    "    "
   ]
  },
  {
   "cell_type": "markdown",
   "metadata": {},
   "source": [
    "#### **Ejercicio 5**\n",
    "Implementá una función recursiva llamada es_palindromo(palabra) que reciba una cadena de texto sin espacios ni tildes, y devuelva True si es un palíndromo o False si no lo es.\n",
    "\n",
    "&nbsp;&nbsp;&nbsp;&nbsp;Requisitos:\n",
    "\n",
    "&nbsp;&nbsp;&nbsp;&nbsp;-La solución debe ser recursiva.\n",
    "\n",
    "&nbsp;&nbsp;&nbsp;&nbsp;-No se debe usar [::-1] ni la función reversed().\n"
   ]
  },
  {
   "cell_type": "code",
   "execution_count": null,
   "metadata": {},
   "outputs": [
    {
     "name": "stdout",
     "output_type": "stream",
     "text": [
      "3600 segundos equivalen a 1.00 horas.\n"
     ]
    }
   ],
   "source": [
    "def es_palindromo(palabra):\n",
    "    \"\"\"\n",
    "    Verifica si una cadena de texto es un palíndromo de forma recursiva.\n",
    "    La cadena debe estar en minúsculas y sin espacios ni tildes.\n",
    "\n",
    "    Args:\n",
    "        palabra: La cadena de texto a verificar.\n",
    "\n",
    "    Returns:\n",
    "        True si la cadena es un palíndromo, False en caso contrario.\n",
    "    \"\"\"\n",
    "\n",
    "# Caso base: si la palabra tiene 0 o 1 letra, es un palíndromo\n",
    "    if len(palabra) <= 1:\n",
    "        return True\n",
    "    # Comparar primera y última letra\n",
    "    if palabra[0] != palabra[-1]:\n",
    "        return False\n",
    "    # Llamada recursiva con la palabra sin la primera y última letra\n",
    "    return es_palindromo(palabra[1:-1])\n",
    "\n",
    "# Prueba desde el programa principal\n",
    "palabra = input(\"Ingresa una palabra sin espacios ni tildes: \").lower()\n",
    "\n",
    "# Mostrar resultado\n",
    "if es_palindromo(palabra):\n",
    "    print(f'\"{palabra}\" es un palíndromo.')\n",
    "else:\n",
    "    print(f'\"{palabra}\" no es un palíndromo.')"
   ]
  },
  {
   "cell_type": "markdown",
   "metadata": {},
   "source": [
    "#### **Ejercicio 6**\n",
    "Escribí una función recursiva en Python llamada suma_digitos(n) que reciba un número entero positivo y devuelva la suma de todos sus dígitos.\n",
    "\n",
    "&nbsp;&nbsp;&nbsp;&nbsp;Restricciones:\n",
    "\n",
    "&nbsp;&nbsp;&nbsp;&nbsp;-No se puede convertir el número a string.\n",
    "\n",
    "&nbsp;&nbsp;&nbsp;&nbsp;-Usá operaciones matemáticas (%, //) y recursión.\n",
    "\n",
    "&nbsp;&nbsp;&nbsp;&nbsp;Ejemplos:\n",
    "\n",
    "&nbsp;&nbsp;&nbsp;&nbsp;suma_digitos(1234) → 10 (1 + 2 + 3 + 4)\n",
    "\n",
    "&nbsp;&nbsp;&nbsp;&nbsp;suma_digitos(9) → 9\n",
    "\n",
    "&nbsp;&nbsp;&nbsp;&nbsp;suma_digitos(305) → 8 (3 + 0 + 5)\n",
    "\n"
   ]
  },
  {
   "cell_type": "code",
   "execution_count": null,
   "metadata": {},
   "outputs": [
    {
     "name": "stdout",
     "output_type": "stream",
     "text": [
      "Tabla de multiplicar del 2:\n",
      "2 x 1 = 2\n",
      "2 x 2 = 4\n",
      "2 x 3 = 6\n",
      "2 x 4 = 8\n",
      "2 x 5 = 10\n",
      "2 x 6 = 12\n",
      "2 x 7 = 14\n",
      "2 x 8 = 16\n",
      "2 x 9 = 18\n",
      "2 x 10 = 20\n"
     ]
    }
   ],
   "source": []
  },
  {
   "cell_type": "markdown",
   "metadata": {},
   "source": [
    "#### **Ejercicio 7**\n",
    "Un niño está construyendo una pirámide con bloques. En el nivel más bajo coloca n bloques, en el siguiente nivel uno menos (n - 1), y así sucesivamente hasta llegar al último nivel con un solo bloque.\n",
    "Escribí una función recursiva contar_bloques(n) que reciba el número de bloques en el nivel más bajo y devuelva el total de bloques que necesita para construir toda la pirámide.\n",
    "\n",
    "&nbsp;&nbsp;&nbsp;&nbsp;Ejemplos:\n",
    "\n",
    "&nbsp;&nbsp;&nbsp;&nbsp;contar_bloques(1) → 1 (1)\n",
    "\n",
    "&nbsp;&nbsp;&nbsp;&nbsp;contar_bloques(2) → 3 (2 + 1)\n",
    "\n",
    "&nbsp;&nbsp;&nbsp;&nbsp;contar_bloques(4) → 10 (4 + 3 + 2 + 1)\n",
    "\n"
   ]
  },
  {
   "cell_type": "code",
   "execution_count": null,
   "metadata": {},
   "outputs": [
    {
     "name": "stdout",
     "output_type": "stream",
     "text": [
      "Suma: 2.0\n",
      "Resta: 2.0\n",
      "Multiplicación: 0.0\n",
      "División: Indefinido\n"
     ]
    }
   ],
   "source": [
    "\n"
   ]
  },
  {
   "cell_type": "markdown",
   "metadata": {},
   "source": [
    "#### **Ejercicio 8**\n",
    "Escribí una función recursiva llamada contar_digito(numero, digito) que reciba un número entero positivo (numero) y un dígito (entre 0 y 9), y devuelva cuántas veces aparece ese dígito dentro del número.\n",
    "\n",
    "&nbsp;&nbsp;&nbsp;&nbsp;Ejemplos:\n",
    "\n",
    "&nbsp;&nbsp;&nbsp;&nbsp;contar_digito(12233421, 2) → 3\n",
    "\n",
    "&nbsp;&nbsp;&nbsp;&nbsp;contar_digito(5555, 5) → 4\n",
    "\n",
    "&nbsp;&nbsp;&nbsp;&nbsp;contar_digito(123456, 7) → 0\n"
   ]
  },
  {
   "cell_type": "code",
   "execution_count": null,
   "metadata": {},
   "outputs": [
    {
     "name": "stdout",
     "output_type": "stream",
     "text": [
      "Tu IMC es: 22.99\n"
     ]
    }
   ],
   "source": []
  },
  {
   "cell_type": "markdown",
   "metadata": {},
   "source": [
    "#### **Ejercicio 9**\n",
    "\n",
    "Crear una función llamada celsius_a_fahrenheit(celsius) que reciba una temperatura en grados Celsius y devuelva su equivalente en Fahrenheit. Pedir al usuario la temperatura en Celsius y mostrar el resultado usando la función.\n"
   ]
  },
  {
   "cell_type": "code",
   "execution_count": null,
   "metadata": {},
   "outputs": [
    {
     "name": "stdout",
     "output_type": "stream",
     "text": [
      "30.0°C equivalen a 86.00°F\n"
     ]
    }
   ],
   "source": []
  },
  {
   "cell_type": "markdown",
   "metadata": {},
   "source": [
    "#### **Ejercicio 10**\n",
    "Crear una función llamada calcular_promedio(a, b, c) que reciba tres números como parámetros y devuelva el promedio de ellos. Solicitar los números al usuario y mostrar el resultado usando esta función\n"
   ]
  },
  {
   "cell_type": "code",
   "execution_count": null,
   "metadata": {},
   "outputs": [
    {
     "name": "stdout",
     "output_type": "stream",
     "text": [
      "El promedio es: 20.00\n"
     ]
    }
   ],
   "source": []
  }
 ],
 "metadata": {
  "kernelspec": {
   "display_name": "Python 3",
   "language": "python",
   "name": "python3"
  },
  "language_info": {
   "codemirror_mode": {
    "name": "ipython",
    "version": 3
   },
   "file_extension": ".py",
   "mimetype": "text/x-python",
   "name": "python",
   "nbconvert_exporter": "python",
   "pygments_lexer": "ipython3",
   "version": "3.13.2"
  }
 },
 "nbformat": 4,
 "nbformat_minor": 2
}
